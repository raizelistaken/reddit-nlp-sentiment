{
 "cells": [
  {
   "cell_type": "code",
   "execution_count": 1,
   "id": "44b05388-938a-4b45-8f85-4f108cd8dbae",
   "metadata": {},
   "outputs": [
    {
     "name": "stderr",
     "output_type": "stream",
     "text": [
      "[nltk_data] Downloading package vader_lexicon to\n",
      "[nltk_data]     C:\\Users\\raize\\AppData\\Roaming\\nltk_data...\n",
      "[nltk_data]   Package vader_lexicon is already up-to-date!\n",
      "[nltk_data] Downloading package stopwords to\n",
      "[nltk_data]     C:\\Users\\raize\\AppData\\Roaming\\nltk_data...\n",
      "[nltk_data]   Package stopwords is already up-to-date!\n",
      "[nltk_data] Downloading package punkt to\n",
      "[nltk_data]     C:\\Users\\raize\\AppData\\Roaming\\nltk_data...\n",
      "[nltk_data]   Package punkt is already up-to-date!\n",
      "[nltk_data] Downloading package wordnet to\n",
      "[nltk_data]     C:\\Users\\raize\\AppData\\Roaming\\nltk_data...\n",
      "[nltk_data]   Package wordnet is already up-to-date!\n"
     ]
    },
    {
     "data": {
      "text/plain": [
       "True"
      ]
     },
     "execution_count": 1,
     "metadata": {},
     "output_type": "execute_result"
    }
   ],
   "source": [
    "import nltk\n",
    "from nltk.sentiment import SentimentIntensityAnalyzer\n",
    "from langdetect import detect, DetectorFactory\n",
    "import matplotlib.pyplot as plt\n",
    "import pandas as pd\n",
    "from sklearn.feature_extraction.text import CountVectorizer\n",
    "from sklearn.feature_extraction.text import TfidfVectorizer\n",
    "from sklearn.feature_extraction.text import TfidfTransformer\n",
    "from nltk.probability import FreqDist\n",
    "from nltk.corpus import stopwords\n",
    "from sklearn.metrics import confusion_matrix\n",
    "import seaborn as sns\n",
    "from sklearn.naive_bayes import MultinomialNB\n",
    "from sklearn import metrics\n",
    "from sklearn.model_selection import train_test_split\n",
    "from matplotlib import cm\n",
    "import numpy as np\n",
    "from sklearn.ensemble import RandomForestClassifier\n",
    "from sklearn.metrics import accuracy_score\n",
    "from sklearn.metrics import f1_score\n",
    "from sklearn.naive_bayes import MultinomialNB\n",
    "from tqdm import tqdm\n",
    "from wordcloud import WordCloud\n",
    "import nest_asyncio\n",
    "import praw\n",
    "\n",
    "nest_asyncio.apply()\n",
    "\n",
    "nltk.download(\"vader_lexicon\")\n",
    "nltk.download('stopwords')\n",
    "nltk.download('punkt')\n",
    "nltk.download('wordnet')"
   ]
  },
  {
   "cell_type": "code",
   "execution_count": 2,
   "id": "66d43be9-0f41-4ae2-8ecc-b9af787b6a61",
   "metadata": {},
   "outputs": [],
   "source": [
    "from nltk.tokenize import RegexpTokenizer\n",
    "tokenizer = RegexpTokenizer(r'[a-zA-Z0-9]+')"
   ]
  },
  {
   "cell_type": "code",
   "execution_count": 35,
   "id": "2a062236-2202-42ae-a94a-6ce18f716a79",
   "metadata": {},
   "outputs": [],
   "source": [
    "reddit = praw.Reddit(\n",
    "    client_id=\"\",\n",
    "    client_secret=\"\",\n",
    "    user_agent=\"\",\n",
    ")"
   ]
  },
  {
   "cell_type": "code",
   "execution_count": 4,
   "id": "78272bf1-00ba-4665-80c7-0c722d818127",
   "metadata": {},
   "outputs": [
    {
     "name": "stdout",
     "output_type": "stream",
     "text": [
      "True\n"
     ]
    }
   ],
   "source": [
    "print(reddit.read_only)"
   ]
  },
  {
   "cell_type": "code",
   "execution_count": 5,
   "id": "022a97fc-17ce-45c6-85e2-914dcd0c83e9",
   "metadata": {},
   "outputs": [
    {
     "data": {
      "text/plain": [
       "<praw.reddit.Reddit at 0x1df6278f380>"
      ]
     },
     "execution_count": 5,
     "metadata": {},
     "output_type": "execute_result"
    }
   ],
   "source": [
    "reddit"
   ]
  },
  {
   "cell_type": "code",
   "execution_count": 6,
   "id": "c5df048a-e4f2-4022-9cd9-b2101c60fe3f",
   "metadata": {},
   "outputs": [
    {
     "name": "stdout",
     "output_type": "stream",
     "text": [
      "Collected 65 reviews.\n"
     ]
    }
   ],
   "source": [
    "subreddit = reddit.subreddit(\"movies\")\n",
    "\n",
    "reviews = []\n",
    "for submission in subreddit.new(limit=100):  # You can adjust the limit\n",
    "    # if \"review\" in submission.title.lower():\n",
    "    #     reviews.append(submission.selftext)  # selftext is the post body\n",
    "    # keywords = [\"review\", \"thoughts\", \"opinion\", \"watched\"]\n",
    "    # if any(kw in submission.title.lower() for kw in keywords):\n",
    "    #     reviews.append(submission.selftext)\n",
    "    if submission.selftext:  # Only collect non-empty posts\n",
    "        reviews.append(submission.selftext)\n",
    "\n",
    "print(f\"Collected {len(reviews)} reviews.\")"
   ]
  },
  {
   "cell_type": "code",
   "execution_count": 7,
   "id": "47119e79-9e63-446a-8ab4-36e30505966e",
   "metadata": {},
   "outputs": [],
   "source": [
    "# reviews[:5]"
   ]
  },
  {
   "cell_type": "code",
   "execution_count": 8,
   "id": "38ace028-2e43-4ecb-9f12-ceee0a1ed675",
   "metadata": {},
   "outputs": [
    {
     "name": "stdout",
     "output_type": "stream",
     "text": [
      "Collected 0 Inception-related reviews/posts.\n"
     ]
    }
   ],
   "source": [
    "subreddit = reddit.subreddit(\"movies\")\n",
    "reviews = []\n",
    "\n",
    "inception_keywords = [\"inception\", \"INCEPTION\", \"inception movie\"]\n",
    "\n",
    "for submission in subreddit.new(limit=200):  # You can increase the limit for better coverage\n",
    "    title = submission.title.lower()\n",
    "    body = submission.selftext.lower()\n",
    "    \n",
    "    if any(kw in title or kw in body for kw in inception_keywords):\n",
    "        if submission.selftext.strip():  # Make sure it's not empty\n",
    "            reviews.append(submission.selftext.strip())\n",
    "\n",
    "print(f\"Collected {len(reviews)} Inception-related reviews/posts.\")"
   ]
  },
  {
   "cell_type": "code",
   "execution_count": 9,
   "id": "a6233e05-6fc1-41e2-8da9-1085a9ccc775",
   "metadata": {},
   "outputs": [],
   "source": [
    "subreddit = reddit.subreddit(\"Inception\")"
   ]
  },
  {
   "cell_type": "code",
   "execution_count": 10,
   "id": "6882499b-cf54-48f0-9d35-a7fc2c716aa9",
   "metadata": {},
   "outputs": [
    {
     "name": "stdout",
     "output_type": "stream",
     "text": [
      "Collected:  325 Inception-related reviews/posts.\n"
     ]
    }
   ],
   "source": [
    "for submission in subreddit.new(limit=500):  # Adjust the limit as needed\n",
    "    if submission.selftext:\n",
    "        reviews.append(submission.selftext)\n",
    "\n",
    "print('Collected: ', len(reviews), 'Inception-related reviews/posts.')"
   ]
  },
  {
   "cell_type": "code",
   "execution_count": 11,
   "id": "a0ee822f-45bd-46dc-a042-5cea7416162a",
   "metadata": {},
   "outputs": [
    {
     "name": "stdout",
     "output_type": "stream",
     "text": [
      "Collected: 306 English Inception-related reviews/posts.\n"
     ]
    }
   ],
   "source": [
    "DetectorFactory.seed = 0  # To make detection more consistent\n",
    "\n",
    "reviews = []\n",
    "\n",
    "for submission in subreddit.new(limit=500):\n",
    "    if submission.selftext:\n",
    "        try:\n",
    "            if detect(submission.selftext) == 'en':\n",
    "                reviews.append(submission.selftext)\n",
    "        except:\n",
    "            pass  # Skip if language detection fails (e.g., very short text)\n",
    "\n",
    "print('Collected:', len(reviews), 'English Inception-related reviews/posts.')"
   ]
  },
  {
   "cell_type": "code",
   "execution_count": 12,
   "id": "d9541929-f682-485d-a293-6112703b1b29",
   "metadata": {},
   "outputs": [
    {
     "data": {
      "text/plain": [
       "['If I had money I’d get someone to build me a Bluetooth music player that looks exactly like a pasiv but instead of IVs it lets multiple people plug in headphones or whatever to listen to the same thing like it wouldn’t even be practical but it would be fun to have lol',\n",
       " 'When the van would have hit the water surface, they would have felt the falling sensation anyway and woken up. They just needed to be floating above the hotel bed']"
      ]
     },
     "execution_count": 12,
     "metadata": {},
     "output_type": "execute_result"
    }
   ],
   "source": [
    "reviews[:2]"
   ]
  },
  {
   "cell_type": "code",
   "execution_count": 13,
   "id": "8be8334c-9fc3-4a30-8d2c-afb193dc0fec",
   "metadata": {},
   "outputs": [
    {
     "name": "stdout",
     "output_type": "stream",
     "text": [
      "Sentiment:  {'neg': 0.0, 'neu': 0.778, 'pos': 0.222, 'compound': 0.9209}\n",
      "Sentiment:  {'neg': 0.052, 'neu': 0.948, 'pos': 0.0, 'compound': -0.1531}\n",
      "Sentiment:  {'neg': 0.063, 'neu': 0.747, 'pos': 0.19, 'compound': 0.7438}\n",
      "Sentiment:  {'neg': 0.128, 'neu': 0.788, 'pos': 0.084, 'compound': -0.8294}\n",
      "Sentiment:  {'neg': 0.0, 'neu': 0.94, 'pos': 0.06, 'compound': 0.4019}\n"
     ]
    }
   ],
   "source": [
    "analyzer = SentimentIntensityAnalyzer()\n",
    "\n",
    "for review in reviews[:5]:  # Show a few examples\n",
    "    scores = analyzer.polarity_scores(review)\n",
    "    print('Sentiment: ', scores)"
   ]
  },
  {
   "cell_type": "code",
   "execution_count": 14,
   "id": "6f7e0d8f-67d7-4d01-8c3c-ac96a891eda2",
   "metadata": {},
   "outputs": [
    {
     "name": "stdout",
     "output_type": "stream",
     "text": [
      "Review 1 Sentiment: {'neg': 0.0, 'neu': 0.778, 'pos': 0.222, 'compound': 0.9209}\n",
      "Review 2 Sentiment: {'neg': 0.052, 'neu': 0.948, 'pos': 0.0, 'compound': -0.1531}\n",
      "Review 3 Sentiment: {'neg': 0.063, 'neu': 0.747, 'pos': 0.19, 'compound': 0.7438}\n",
      "Review 4 Sentiment: {'neg': 0.128, 'neu': 0.788, 'pos': 0.084, 'compound': -0.8294}\n",
      "Review 5 Sentiment: {'neg': 0.0, 'neu': 0.94, 'pos': 0.06, 'compound': 0.4019}\n"
     ]
    }
   ],
   "source": [
    "analyzer = SentimentIntensityAnalyzer()\n",
    "\n",
    "for i, review in enumerate(reviews[:5]):  # Show a few examples\n",
    "    scores = analyzer.polarity_scores(review)\n",
    "    print(f\"Review {i+1} Sentiment: {scores}\")"
   ]
  },
  {
   "cell_type": "raw",
   "id": "0dae2dd8-d03c-4458-acd5-c8d2b8283620",
   "metadata": {},
   "source": [
    "To dataframe:\n",
    "\n",
    "review, setiment"
   ]
  },
  {
   "cell_type": "code",
   "execution_count": 15,
   "id": "b1c45538-e65d-4a92-9fd7-e9cd9c8b8715",
   "metadata": {
    "scrolled": true
   },
   "outputs": [
    {
     "data": {
      "text/html": [
       "<div>\n",
       "<style scoped>\n",
       "    .dataframe tbody tr th:only-of-type {\n",
       "        vertical-align: middle;\n",
       "    }\n",
       "\n",
       "    .dataframe tbody tr th {\n",
       "        vertical-align: top;\n",
       "    }\n",
       "\n",
       "    .dataframe thead th {\n",
       "        text-align: right;\n",
       "    }\n",
       "</style>\n",
       "<table border=\"1\" class=\"dataframe\">\n",
       "  <thead>\n",
       "    <tr style=\"text-align: right;\">\n",
       "      <th></th>\n",
       "      <th>reviews</th>\n",
       "    </tr>\n",
       "  </thead>\n",
       "  <tbody>\n",
       "    <tr>\n",
       "      <th>0</th>\n",
       "      <td>If I had money I’d get someone to build me a B...</td>\n",
       "    </tr>\n",
       "    <tr>\n",
       "      <th>1</th>\n",
       "      <td>When the van would have hit the water surface,...</td>\n",
       "    </tr>\n",
       "    <tr>\n",
       "      <th>2</th>\n",
       "      <td>In base reality, they have a machine that allo...</td>\n",
       "    </tr>\n",
       "    <tr>\n",
       "      <th>3</th>\n",
       "      <td>Just watched Inception again. I am actually ta...</td>\n",
       "    </tr>\n",
       "    <tr>\n",
       "      <th>4</th>\n",
       "      <td>At first I thought it was the same scene and i...</td>\n",
       "    </tr>\n",
       "  </tbody>\n",
       "</table>\n",
       "</div>"
      ],
      "text/plain": [
       "                                             reviews\n",
       "0  If I had money I’d get someone to build me a B...\n",
       "1  When the van would have hit the water surface,...\n",
       "2  In base reality, they have a machine that allo...\n",
       "3  Just watched Inception again. I am actually ta...\n",
       "4  At first I thought it was the same scene and i..."
      ]
     },
     "execution_count": 15,
     "metadata": {},
     "output_type": "execute_result"
    }
   ],
   "source": [
    "inception = pd.DataFrame({'reviews':reviews})\n",
    "inception.head()"
   ]
  },
  {
   "cell_type": "code",
   "execution_count": 37,
   "id": "a6dbaa12-bfc4-4e2b-96ad-62f6c8f5efd5",
   "metadata": {},
   "outputs": [],
   "source": [
    "vader = SentimentIntensityAnalyzer()"
   ]
  },
  {
   "cell_type": "code",
   "execution_count": 38,
   "id": "e1027099-f02b-4837-8430-69d073718a65",
   "metadata": {},
   "outputs": [
    {
     "data": {
      "text/plain": [
       "0      {'neg': 0.0, 'neu': 0.778, 'pos': 0.222, 'comp...\n",
       "1      {'neg': 0.052, 'neu': 0.948, 'pos': 0.0, 'comp...\n",
       "2      {'neg': 0.063, 'neu': 0.747, 'pos': 0.19, 'com...\n",
       "3      {'neg': 0.128, 'neu': 0.788, 'pos': 0.084, 'co...\n",
       "4      {'neg': 0.0, 'neu': 0.94, 'pos': 0.06, 'compou...\n",
       "                             ...                        \n",
       "301    {'neg': 0.121, 'neu': 0.879, 'pos': 0.0, 'comp...\n",
       "302    {'neg': 0.061, 'neu': 0.808, 'pos': 0.131, 'co...\n",
       "303    {'neg': 0.038, 'neu': 0.923, 'pos': 0.038, 'co...\n",
       "304    {'neg': 0.056, 'neu': 0.806, 'pos': 0.138, 'co...\n",
       "305    {'neg': 0.135, 'neu': 0.75, 'pos': 0.116, 'com...\n",
       "Name: vader_score, Length: 306, dtype: object"
      ]
     },
     "execution_count": 38,
     "metadata": {},
     "output_type": "execute_result"
    }
   ],
   "source": [
    "inception['vader_score'] = inception['reviews'].apply(lambda x: vader.polarity_scores(x))\n",
    "inception['vader_score']"
   ]
  },
  {
   "cell_type": "code",
   "execution_count": 47,
   "id": "a9905f10-9217-48cc-bff5-556fb66ac0b6",
   "metadata": {},
   "outputs": [
    {
     "data": {
      "text/plain": [
       "{'neg': 0.0, 'neu': 0.778, 'pos': 0.222, 'compound': 0.9209}"
      ]
     },
     "execution_count": 47,
     "metadata": {},
     "output_type": "execute_result"
    }
   ],
   "source": [
    "inception['vader_score'][0]\n",
    "# inception['vader_score'].keys()"
   ]
  },
  {
   "cell_type": "code",
   "execution_count": 41,
   "id": "8efa51f2-f1ba-4dca-a6ff-b3f3dfa41a92",
   "metadata": {},
   "outputs": [],
   "source": [
    "#add vader scores into the Inception dataframe\n",
    "inception['positive sentiment score'] = inception['reviews'].apply(lambda x: vader.polarity_scores(x)['pos'])\n",
    "inception['negative sentiment score'] = inception['reviews'].apply(lambda x: vader.polarity_scores(x)['neg'])\n",
    "inception['neutral sentiment score'] = inception['reviews'].apply(lambda x: vader.polarity_scores(x)['neu'])\n",
    "inception['compound_score'] = inception['reviews'].apply(lambda x: analyzer.polarity_scores(x)['compound'])"
   ]
  },
  {
   "cell_type": "code",
   "execution_count": 17,
   "id": "ab90b11f-345e-47bb-a5ee-aec174c29dae",
   "metadata": {},
   "outputs": [
    {
     "data": {
      "text/html": [
       "<div>\n",
       "<style scoped>\n",
       "    .dataframe tbody tr th:only-of-type {\n",
       "        vertical-align: middle;\n",
       "    }\n",
       "\n",
       "    .dataframe tbody tr th {\n",
       "        vertical-align: top;\n",
       "    }\n",
       "\n",
       "    .dataframe thead th {\n",
       "        text-align: right;\n",
       "    }\n",
       "</style>\n",
       "<table border=\"1\" class=\"dataframe\">\n",
       "  <thead>\n",
       "    <tr style=\"text-align: right;\">\n",
       "      <th></th>\n",
       "      <th>reviews</th>\n",
       "      <th>compound_score</th>\n",
       "      <th>sentiment</th>\n",
       "    </tr>\n",
       "  </thead>\n",
       "  <tbody>\n",
       "    <tr>\n",
       "      <th>0</th>\n",
       "      <td>If I had money I’d get someone to build me a B...</td>\n",
       "      <td>0.9209</td>\n",
       "      <td>Positive</td>\n",
       "    </tr>\n",
       "    <tr>\n",
       "      <th>1</th>\n",
       "      <td>When the van would have hit the water surface,...</td>\n",
       "      <td>-0.1531</td>\n",
       "      <td>Negative</td>\n",
       "    </tr>\n",
       "    <tr>\n",
       "      <th>2</th>\n",
       "      <td>In base reality, they have a machine that allo...</td>\n",
       "      <td>0.7438</td>\n",
       "      <td>Positive</td>\n",
       "    </tr>\n",
       "    <tr>\n",
       "      <th>3</th>\n",
       "      <td>Just watched Inception again. I am actually ta...</td>\n",
       "      <td>-0.8294</td>\n",
       "      <td>Negative</td>\n",
       "    </tr>\n",
       "    <tr>\n",
       "      <th>4</th>\n",
       "      <td>At first I thought it was the same scene and i...</td>\n",
       "      <td>0.4019</td>\n",
       "      <td>Positive</td>\n",
       "    </tr>\n",
       "  </tbody>\n",
       "</table>\n",
       "</div>"
      ],
      "text/plain": [
       "                                             reviews  compound_score sentiment\n",
       "0  If I had money I’d get someone to build me a B...          0.9209  Positive\n",
       "1  When the van would have hit the water surface,...         -0.1531  Negative\n",
       "2  In base reality, they have a machine that allo...          0.7438  Positive\n",
       "3  Just watched Inception again. I am actually ta...         -0.8294  Negative\n",
       "4  At first I thought it was the same scene and i...          0.4019  Positive"
      ]
     },
     "execution_count": 17,
     "metadata": {},
     "output_type": "execute_result"
    }
   ],
   "source": [
    "# Apply sentiment analysis\n",
    "# inception['compound_score'] = inception['reviews'].apply(lambda x: analyzer.polarity_scores(x)['compound'])\n",
    "\n",
    "# Optional: classify sentiment as Positive / Negative / Neutral\n",
    "def classify_sentiment(score):\n",
    "    if score >= 0.05:\n",
    "        return 'Positive'\n",
    "    elif score <= -0.05:\n",
    "        return 'Negative'\n",
    "    else:\n",
    "        return 'Neutral'\n",
    "\n",
    "inception['sentiment'] = inception['compound_score'].apply(classify_sentiment)\n",
    "\n",
    "inception[['reviews', 'compound_score', 'sentiment']].head()"
   ]
  },
  {
   "cell_type": "code",
   "execution_count": 18,
   "id": "f852c785-3e39-4035-aa66-78fdabd95ff5",
   "metadata": {},
   "outputs": [
    {
     "data": {
      "text/plain": [
       "(306, 3)"
      ]
     },
     "execution_count": 18,
     "metadata": {},
     "output_type": "execute_result"
    }
   ],
   "source": [
    "inception.shape"
   ]
  },
  {
   "cell_type": "code",
   "execution_count": 42,
   "id": "b06dffe3-8eb2-4f6e-b4b5-5ff7974e3805",
   "metadata": {},
   "outputs": [
    {
     "data": {
      "text/html": [
       "<div>\n",
       "<style scoped>\n",
       "    .dataframe tbody tr th:only-of-type {\n",
       "        vertical-align: middle;\n",
       "    }\n",
       "\n",
       "    .dataframe tbody tr th {\n",
       "        vertical-align: top;\n",
       "    }\n",
       "\n",
       "    .dataframe thead th {\n",
       "        text-align: right;\n",
       "    }\n",
       "</style>\n",
       "<table border=\"1\" class=\"dataframe\">\n",
       "  <thead>\n",
       "    <tr style=\"text-align: right;\">\n",
       "      <th></th>\n",
       "      <th>reviews</th>\n",
       "      <th>compound_score</th>\n",
       "      <th>sentiment</th>\n",
       "      <th>split_review</th>\n",
       "      <th>vader_score</th>\n",
       "      <th>positive sentiment score</th>\n",
       "      <th>negative sentiment score</th>\n",
       "      <th>neutral sentiment score</th>\n",
       "    </tr>\n",
       "  </thead>\n",
       "  <tbody>\n",
       "    <tr>\n",
       "      <th>0</th>\n",
       "      <td>If I had money I’d get someone to build me a B...</td>\n",
       "      <td>0.9209</td>\n",
       "      <td>Positive</td>\n",
       "      <td>[If, I, had, money, I’d, get, someone, to, bui...</td>\n",
       "      <td>{'neg': 0.0, 'neu': 0.778, 'pos': 0.222, 'comp...</td>\n",
       "      <td>0.222</td>\n",
       "      <td>0.000</td>\n",
       "      <td>0.778</td>\n",
       "    </tr>\n",
       "    <tr>\n",
       "      <th>1</th>\n",
       "      <td>When the van would have hit the water surface,...</td>\n",
       "      <td>-0.1531</td>\n",
       "      <td>Negative</td>\n",
       "      <td>[When, the, van, would, have, hit, the, water,...</td>\n",
       "      <td>{'neg': 0.052, 'neu': 0.948, 'pos': 0.0, 'comp...</td>\n",
       "      <td>0.000</td>\n",
       "      <td>0.052</td>\n",
       "      <td>0.948</td>\n",
       "    </tr>\n",
       "    <tr>\n",
       "      <th>2</th>\n",
       "      <td>In base reality, they have a machine that allo...</td>\n",
       "      <td>0.7438</td>\n",
       "      <td>Positive</td>\n",
       "      <td>[In, base, reality,, they, have, a, machine, t...</td>\n",
       "      <td>{'neg': 0.063, 'neu': 0.747, 'pos': 0.19, 'com...</td>\n",
       "      <td>0.190</td>\n",
       "      <td>0.063</td>\n",
       "      <td>0.747</td>\n",
       "    </tr>\n",
       "    <tr>\n",
       "      <th>3</th>\n",
       "      <td>Just watched Inception again. I am actually ta...</td>\n",
       "      <td>-0.8294</td>\n",
       "      <td>Negative</td>\n",
       "      <td>[Just, watched, Inception, again., I, am, actu...</td>\n",
       "      <td>{'neg': 0.128, 'neu': 0.788, 'pos': 0.084, 'co...</td>\n",
       "      <td>0.084</td>\n",
       "      <td>0.128</td>\n",
       "      <td>0.788</td>\n",
       "    </tr>\n",
       "    <tr>\n",
       "      <th>4</th>\n",
       "      <td>At first I thought it was the same scene and i...</td>\n",
       "      <td>0.4019</td>\n",
       "      <td>Positive</td>\n",
       "      <td>[At, first, I, thought, it, was, the, same, sc...</td>\n",
       "      <td>{'neg': 0.0, 'neu': 0.94, 'pos': 0.06, 'compou...</td>\n",
       "      <td>0.060</td>\n",
       "      <td>0.000</td>\n",
       "      <td>0.940</td>\n",
       "    </tr>\n",
       "  </tbody>\n",
       "</table>\n",
       "</div>"
      ],
      "text/plain": [
       "                                             reviews  compound_score  \\\n",
       "0  If I had money I’d get someone to build me a B...          0.9209   \n",
       "1  When the van would have hit the water surface,...         -0.1531   \n",
       "2  In base reality, they have a machine that allo...          0.7438   \n",
       "3  Just watched Inception again. I am actually ta...         -0.8294   \n",
       "4  At first I thought it was the same scene and i...          0.4019   \n",
       "\n",
       "  sentiment                                       split_review  \\\n",
       "0  Positive  [If, I, had, money, I’d, get, someone, to, bui...   \n",
       "1  Negative  [When, the, van, would, have, hit, the, water,...   \n",
       "2  Positive  [In, base, reality,, they, have, a, machine, t...   \n",
       "3  Negative  [Just, watched, Inception, again., I, am, actu...   \n",
       "4  Positive  [At, first, I, thought, it, was, the, same, sc...   \n",
       "\n",
       "                                         vader_score  \\\n",
       "0  {'neg': 0.0, 'neu': 0.778, 'pos': 0.222, 'comp...   \n",
       "1  {'neg': 0.052, 'neu': 0.948, 'pos': 0.0, 'comp...   \n",
       "2  {'neg': 0.063, 'neu': 0.747, 'pos': 0.19, 'com...   \n",
       "3  {'neg': 0.128, 'neu': 0.788, 'pos': 0.084, 'co...   \n",
       "4  {'neg': 0.0, 'neu': 0.94, 'pos': 0.06, 'compou...   \n",
       "\n",
       "   positive sentiment score  negative sentiment score  neutral sentiment score  \n",
       "0                     0.222                     0.000                    0.778  \n",
       "1                     0.000                     0.052                    0.948  \n",
       "2                     0.190                     0.063                    0.747  \n",
       "3                     0.084                     0.128                    0.788  \n",
       "4                     0.060                     0.000                    0.940  "
      ]
     },
     "execution_count": 42,
     "metadata": {},
     "output_type": "execute_result"
    }
   ],
   "source": [
    "inception.head()"
   ]
  },
  {
   "cell_type": "code",
   "execution_count": null,
   "id": "9ee180a4-7466-401f-83b8-99d3105e5c48",
   "metadata": {},
   "outputs": [],
   "source": [
    "inception.to_csv('data/inception.csv')"
   ]
  },
  {
   "cell_type": "code",
   "execution_count": 20,
   "id": "a432bbc2-a321-4aea-bd36-61660fccf2a9",
   "metadata": {
    "scrolled": true
   },
   "outputs": [
    {
     "name": "stdout",
     "output_type": "stream",
     "text": [
      "['a', 'about', 'above', 'after', 'again', 'against', 'ain', 'all', 'am', 'an', 'and', 'any', 'are', 'aren', \"aren't\", 'as', 'at', 'be', 'because', 'been', 'before', 'being', 'below', 'between', 'both', 'but', 'by', 'can', 'couldn', \"couldn't\", 'd', 'did', 'didn', \"didn't\", 'do', 'does', 'doesn', \"doesn't\", 'doing', 'don', \"don't\", 'down', 'during', 'each', 'few', 'for', 'from', 'further', 'had', 'hadn', \"hadn't\", 'has', 'hasn', \"hasn't\", 'have', 'haven', \"haven't\", 'having', 'he', \"he'd\", \"he'll\", 'her', 'here', 'hers', 'herself', \"he's\", 'him', 'himself', 'his', 'how', 'i', \"i'd\", 'if', \"i'll\", \"i'm\", 'in', 'into', 'is', 'isn', \"isn't\", 'it', \"it'd\", \"it'll\", \"it's\", 'its', 'itself', \"i've\", 'just', 'll', 'm', 'ma', 'me', 'mightn', \"mightn't\", 'more', 'most', 'mustn', \"mustn't\", 'my', 'myself', 'needn', \"needn't\", 'no', 'nor', 'not', 'now', 'o', 'of', 'off', 'on', 'once', 'only', 'or', 'other', 'our', 'ours', 'ourselves', 'out', 'over', 'own', 're', 's', 'same', 'shan', \"shan't\", 'she', \"she'd\", \"she'll\", \"she's\", 'should', 'shouldn', \"shouldn't\", \"should've\", 'so', 'some', 'such', 't', 'than', 'that', \"that'll\", 'the', 'their', 'theirs', 'them', 'themselves', 'then', 'there', 'these', 'they', \"they'd\", \"they'll\", \"they're\", \"they've\", 'this', 'those', 'through', 'to', 'too', 'under', 'until', 'up', 've', 'very', 'was', 'wasn', \"wasn't\", 'we', \"we'd\", \"we'll\", \"we're\", 'were', 'weren', \"weren't\", \"we've\", 'what', 'when', 'where', 'which', 'while', 'who', 'whom', 'why', 'will', 'with', 'won', \"won't\", 'wouldn', \"wouldn't\", 'y', 'you', \"you'd\", \"you'll\", 'your', \"you're\", 'yours', 'yourself', 'yourselves', \"you've\", '!', '\"', '#', '$', '%', '&', \"'\", '(', ')', '*', '+', ',', '-', '.', '/', ':', ';', '<', '=', '>', '?', '@', '[', '\\\\', ']', '^', '_', '`', '{', '|', '}', '~', 'https', 'I', 'com', 'http', 'RT', 'co', 'the', 'amp', 'the', 'lt', 'A', 'www', 'rt', 'got', 'get', 'ly', 'u']\n"
     ]
    }
   ],
   "source": [
    "#creating a stop words list - these words don't add much value\n",
    "from nltk.corpus import stopwords\n",
    "import string\n",
    "\n",
    "#adding additional words I don't find to be that valuable\n",
    "additional_stopwords = ['https', 'I', 'com', 'http', 'RT', 'co', 'the', 'amp', 'the', 'lt', 'A', 'www', 'rt', 'got', 'get', \n",
    "                        'ly', 'u']\n",
    "\n",
    "stopwords_list = stopwords.words('english')\n",
    "\n",
    "stopwords_list += list(string.punctuation)\n",
    "\n",
    "stopwords_list += additional_stopwords\n",
    "\n",
    "print(stopwords_list)"
   ]
  },
  {
   "cell_type": "code",
   "execution_count": 27,
   "id": "cf40b0be-f284-4837-877f-c4aff67dad61",
   "metadata": {},
   "outputs": [],
   "source": [
    "#isolating every word within tweets for the Inception movie (not including stop words)\n",
    "# Split each review into words\n",
    "inception[\"split_review\"] = inception['reviews'].str.split()"
   ]
  },
  {
   "cell_type": "code",
   "execution_count": 29,
   "id": "31a261ef-81d8-4253-ac6f-220423291aa6",
   "metadata": {
    "scrolled": true
   },
   "outputs": [
    {
     "data": {
      "text/html": [
       "<div>\n",
       "<style scoped>\n",
       "    .dataframe tbody tr th:only-of-type {\n",
       "        vertical-align: middle;\n",
       "    }\n",
       "\n",
       "    .dataframe tbody tr th {\n",
       "        vertical-align: top;\n",
       "    }\n",
       "\n",
       "    .dataframe thead th {\n",
       "        text-align: right;\n",
       "    }\n",
       "</style>\n",
       "<table border=\"1\" class=\"dataframe\">\n",
       "  <thead>\n",
       "    <tr style=\"text-align: right;\">\n",
       "      <th></th>\n",
       "      <th>reviews</th>\n",
       "      <th>compound_score</th>\n",
       "      <th>sentiment</th>\n",
       "      <th>split_review</th>\n",
       "    </tr>\n",
       "  </thead>\n",
       "  <tbody>\n",
       "    <tr>\n",
       "      <th>0</th>\n",
       "      <td>If I had money I’d get someone to build me a B...</td>\n",
       "      <td>0.9209</td>\n",
       "      <td>Positive</td>\n",
       "      <td>[If, I, had, money, I’d, get, someone, to, bui...</td>\n",
       "    </tr>\n",
       "    <tr>\n",
       "      <th>1</th>\n",
       "      <td>When the van would have hit the water surface,...</td>\n",
       "      <td>-0.1531</td>\n",
       "      <td>Negative</td>\n",
       "      <td>[When, the, van, would, have, hit, the, water,...</td>\n",
       "    </tr>\n",
       "    <tr>\n",
       "      <th>2</th>\n",
       "      <td>In base reality, they have a machine that allo...</td>\n",
       "      <td>0.7438</td>\n",
       "      <td>Positive</td>\n",
       "      <td>[In, base, reality,, they, have, a, machine, t...</td>\n",
       "    </tr>\n",
       "    <tr>\n",
       "      <th>3</th>\n",
       "      <td>Just watched Inception again. I am actually ta...</td>\n",
       "      <td>-0.8294</td>\n",
       "      <td>Negative</td>\n",
       "      <td>[Just, watched, Inception, again., I, am, actu...</td>\n",
       "    </tr>\n",
       "    <tr>\n",
       "      <th>4</th>\n",
       "      <td>At first I thought it was the same scene and i...</td>\n",
       "      <td>0.4019</td>\n",
       "      <td>Positive</td>\n",
       "      <td>[At, first, I, thought, it, was, the, same, sc...</td>\n",
       "    </tr>\n",
       "  </tbody>\n",
       "</table>\n",
       "</div>"
      ],
      "text/plain": [
       "                                             reviews  compound_score  \\\n",
       "0  If I had money I’d get someone to build me a B...          0.9209   \n",
       "1  When the van would have hit the water surface,...         -0.1531   \n",
       "2  In base reality, they have a machine that allo...          0.7438   \n",
       "3  Just watched Inception again. I am actually ta...         -0.8294   \n",
       "4  At first I thought it was the same scene and i...          0.4019   \n",
       "\n",
       "  sentiment                                       split_review  \n",
       "0  Positive  [If, I, had, money, I’d, get, someone, to, bui...  \n",
       "1  Negative  [When, the, van, would, have, hit, the, water,...  \n",
       "2  Positive  [In, base, reality,, they, have, a, machine, t...  \n",
       "3  Negative  [Just, watched, Inception, again., I, am, actu...  \n",
       "4  Positive  [At, first, I, thought, it, was, the, same, sc...  "
      ]
     },
     "execution_count": 29,
     "metadata": {},
     "output_type": "execute_result"
    }
   ],
   "source": [
    "inception.shape\n",
    "inception.head()"
   ]
  },
  {
   "cell_type": "code",
   "execution_count": 30,
   "id": "e67b2fd9-241c-4aea-be8c-afec5d33b6e7",
   "metadata": {},
   "outputs": [],
   "source": [
    "inception = inception[~inception['split_review'].isin(stopwords_list)]"
   ]
  },
  {
   "cell_type": "code",
   "execution_count": 31,
   "id": "f79f4748-8148-431c-8317-40469bd30e2b",
   "metadata": {},
   "outputs": [
    {
     "data": {
      "text/plain": [
       "(306, 4)"
      ]
     },
     "execution_count": 31,
     "metadata": {},
     "output_type": "execute_result"
    }
   ],
   "source": [
    "inception.shape"
   ]
  },
  {
   "cell_type": "code",
   "execution_count": 48,
   "id": "5a9e7bd9-86b4-4bbd-8b1a-48e153375948",
   "metadata": {},
   "outputs": [
    {
     "name": "stdout",
     "output_type": "stream",
     "text": [
      "[('cobb', 346), ('dream', 241), ('mal', 153), ('movie', 151), ('would', 129), ('saito', 126), ('know', 125), ('limbo', 125), ('like', 116), ('time', 110)]\n"
     ]
    }
   ],
   "source": [
    "# Let's assume your DataFrame is named df and 'split_review' is already a list of words\n",
    "# Flatten all lists from the split_review column\n",
    "all_words = [word for sublist in inception['split_review'] for word in sublist]\n",
    "\n",
    "# Convert stopwords to a set for faster lookup\n",
    "stop_words = set(stopwords.words('english'))\n",
    "\n",
    "# Remove stopwords and lowercase the words\n",
    "filtered_words = [word.lower() for word in all_words if word.lower() not in stop_words]\n",
    "\n",
    "# Create frequency distribution\n",
    "fdist = FreqDist(filtered_words)\n",
    "\n",
    "# Now you can inspect fdist\n",
    "print(fdist.most_common(10))  # Top 10 most frequent words"
   ]
  },
  {
   "cell_type": "code",
   "execution_count": 63,
   "id": "563f8e24-8467-480f-8216-d50ca54a6494",
   "metadata": {},
   "outputs": [
    {
     "name": "stdout",
     "output_type": "stream",
     "text": [
      "word\n",
      "cobb     346\n",
      "dream    241\n",
      "mal      153\n",
      "movie    151\n",
      "would    129\n",
      "saito    126\n",
      "limbo    125\n",
      "know     125\n",
      "like     116\n",
      "time     110\n",
      "Name: count, dtype: int64\n"
     ]
    }
   ],
   "source": [
    "# Step 1: Flatten the split_review column into one list of words with a DataFrame\n",
    "words_df = inception['split_review'].explode().to_frame(name='word')\n",
    "\n",
    "# Step 2: Lowercase words and filter out stopwords using `isin`\n",
    "stop_words = set(stopwords.words('english'))\n",
    "words_df['word'] = words_df['word'].str.lower()\n",
    "filtered_df = words_df[~words_df['word'].isin(stop_words)]\n",
    "\n",
    "# Step 3: Get word frequency using value_counts\n",
    "fdist = filtered_df['word'].value_counts()\n",
    "\n",
    "# Optional: Convert to dictionary or inspect top words\n",
    "print(fdist.head(10))"
   ]
  },
  {
   "cell_type": "code",
   "execution_count": 64,
   "id": "08e68518-0e19-40b1-9caa-0578cc4fd034",
   "metadata": {},
   "outputs": [],
   "source": [
    "# inception_words = inception['split_review'].explode().reset_index(drop=True)\n",
    "# inception['split_review'].explode().reset_index()\n",
    "# pd.DataFrame(inception['split_review'].explode())\n",
    "# words_df.head()\n",
    "# pd.DataFrame(inception['split_review'].explode().rename(columns={'split_review':'word'})"
   ]
  },
  {
   "cell_type": "code",
   "execution_count": 33,
   "id": "9f07f443-7b5f-4b57-afff-5908ea92055b",
   "metadata": {},
   "outputs": [],
   "source": [
    "#freqDist - frequency of words within a text, in this case tweets about Inception\n",
    "# fdist = FreqDist(inception['split_review'][0])"
   ]
  },
  {
   "cell_type": "code",
   "execution_count": 65,
   "id": "f920ada0-f656-4807-b950-4b77f55ed90e",
   "metadata": {},
   "outputs": [],
   "source": [
    "# fdist.most_common(2)"
   ]
  },
  {
   "cell_type": "code",
   "execution_count": 69,
   "id": "5d25ddad-084b-4165-8b97-4e0b1e55dfaf",
   "metadata": {
    "scrolled": true
   },
   "outputs": [
    {
     "name": "stderr",
     "output_type": "stream",
     "text": [
      "C:\\Users\\raize\\AppData\\Local\\Temp\\ipykernel_32272\\2983375865.py:3: UserWarning: \n",
      "\n",
      "`distplot` is a deprecated function and will be removed in seaborn v0.14.0.\n",
      "\n",
      "Please adapt your code to use either `displot` (a figure-level function with\n",
      "similar flexibility) or `histplot` (an axes-level function for histograms).\n",
      "\n",
      "For a guide to updating your code to use the new functions, please see\n",
      "https://gist.github.com/mwaskom/de44147ed2974457ad6372750bbe5751\n",
      "\n",
      "  ax = sns.distplot(inception['vader_score'], color = 'firebrick')\n"
     ]
    },
    {
     "ename": "TypeError",
     "evalue": "float() argument must be a string or a real number, not 'dict'",
     "output_type": "error",
     "traceback": [
      "\u001b[1;31m---------------------------------------------------------------------------\u001b[0m",
      "\u001b[1;31mTypeError\u001b[0m                                 Traceback (most recent call last)",
      "Cell \u001b[1;32mIn[69], line 3\u001b[0m\n\u001b[0;32m      1\u001b[0m \u001b[38;5;66;03m#distribution of vader score\u001b[39;00m\n\u001b[0;32m      2\u001b[0m fig, ax \u001b[38;5;241m=\u001b[39m plt\u001b[38;5;241m.\u001b[39msubplots(figsize\u001b[38;5;241m=\u001b[39m(\u001b[38;5;241m15\u001b[39m,\u001b[38;5;241m7\u001b[39m))\n\u001b[1;32m----> 3\u001b[0m ax \u001b[38;5;241m=\u001b[39m \u001b[43msns\u001b[49m\u001b[38;5;241;43m.\u001b[39;49m\u001b[43mdistplot\u001b[49m\u001b[43m(\u001b[49m\u001b[43minception\u001b[49m\u001b[43m[\u001b[49m\u001b[38;5;124;43m'\u001b[39;49m\u001b[38;5;124;43mvader_score\u001b[39;49m\u001b[38;5;124;43m'\u001b[39;49m\u001b[43m]\u001b[49m\u001b[43m,\u001b[49m\u001b[43m \u001b[49m\u001b[43mcolor\u001b[49m\u001b[43m \u001b[49m\u001b[38;5;241;43m=\u001b[39;49m\u001b[43m \u001b[49m\u001b[38;5;124;43m'\u001b[39;49m\u001b[38;5;124;43mfirebrick\u001b[39;49m\u001b[38;5;124;43m'\u001b[39;49m\u001b[43m)\u001b[49m\n\u001b[0;32m      4\u001b[0m plt\u001b[38;5;241m.\u001b[39mxlabel(\u001b[38;5;124m'\u001b[39m\u001b[38;5;124mSentiment Score\u001b[39m\u001b[38;5;124m'\u001b[39m, fontsize\u001b[38;5;241m=\u001b[39m\u001b[38;5;241m18\u001b[39m)\n\u001b[0;32m      5\u001b[0m plt\u001b[38;5;241m.\u001b[39mylabel(\u001b[38;5;124m'\u001b[39m\u001b[38;5;124mTweets per Score\u001b[39m\u001b[38;5;124m'\u001b[39m, fontsize\u001b[38;5;241m=\u001b[39m\u001b[38;5;241m18\u001b[39m)\n",
      "File \u001b[1;32m~\\AppData\\Local\\Programs\\Python\\Python313\\Lib\\site-packages\\seaborn\\distributions.py:2443\u001b[0m, in \u001b[0;36mdistplot\u001b[1;34m(a, bins, hist, kde, rug, fit, hist_kws, kde_kws, rug_kws, fit_kws, color, vertical, norm_hist, axlabel, label, ax, x)\u001b[0m\n\u001b[0;32m   2440\u001b[0m     a \u001b[38;5;241m=\u001b[39m x\n\u001b[0;32m   2442\u001b[0m \u001b[38;5;66;03m# Make a a 1-d float array\u001b[39;00m\n\u001b[1;32m-> 2443\u001b[0m a \u001b[38;5;241m=\u001b[39m \u001b[43mnp\u001b[49m\u001b[38;5;241;43m.\u001b[39;49m\u001b[43masarray\u001b[49m\u001b[43m(\u001b[49m\u001b[43ma\u001b[49m\u001b[43m,\u001b[49m\u001b[43m \u001b[49m\u001b[38;5;28;43mfloat\u001b[39;49m\u001b[43m)\u001b[49m\n\u001b[0;32m   2444\u001b[0m \u001b[38;5;28;01mif\u001b[39;00m a\u001b[38;5;241m.\u001b[39mndim \u001b[38;5;241m>\u001b[39m \u001b[38;5;241m1\u001b[39m:\n\u001b[0;32m   2445\u001b[0m     a \u001b[38;5;241m=\u001b[39m a\u001b[38;5;241m.\u001b[39msqueeze()\n",
      "File \u001b[1;32m~\\AppData\\Local\\Programs\\Python\\Python313\\Lib\\site-packages\\pandas\\core\\series.py:1031\u001b[0m, in \u001b[0;36mSeries.__array__\u001b[1;34m(self, dtype, copy)\u001b[0m\n\u001b[0;32m    981\u001b[0m \u001b[38;5;250m\u001b[39m\u001b[38;5;124;03m\"\"\"\u001b[39;00m\n\u001b[0;32m    982\u001b[0m \u001b[38;5;124;03mReturn the values as a NumPy array.\u001b[39;00m\n\u001b[0;32m    983\u001b[0m \n\u001b[1;32m   (...)\u001b[0m\n\u001b[0;32m   1028\u001b[0m \u001b[38;5;124;03m      dtype='datetime64[ns]')\u001b[39;00m\n\u001b[0;32m   1029\u001b[0m \u001b[38;5;124;03m\"\"\"\u001b[39;00m\n\u001b[0;32m   1030\u001b[0m values \u001b[38;5;241m=\u001b[39m \u001b[38;5;28mself\u001b[39m\u001b[38;5;241m.\u001b[39m_values\n\u001b[1;32m-> 1031\u001b[0m arr \u001b[38;5;241m=\u001b[39m \u001b[43mnp\u001b[49m\u001b[38;5;241;43m.\u001b[39;49m\u001b[43masarray\u001b[49m\u001b[43m(\u001b[49m\u001b[43mvalues\u001b[49m\u001b[43m,\u001b[49m\u001b[43m \u001b[49m\u001b[43mdtype\u001b[49m\u001b[38;5;241;43m=\u001b[39;49m\u001b[43mdtype\u001b[49m\u001b[43m)\u001b[49m\n\u001b[0;32m   1032\u001b[0m \u001b[38;5;28;01mif\u001b[39;00m using_copy_on_write() \u001b[38;5;129;01mand\u001b[39;00m astype_is_view(values\u001b[38;5;241m.\u001b[39mdtype, arr\u001b[38;5;241m.\u001b[39mdtype):\n\u001b[0;32m   1033\u001b[0m     arr \u001b[38;5;241m=\u001b[39m arr\u001b[38;5;241m.\u001b[39mview()\n",
      "\u001b[1;31mTypeError\u001b[0m: float() argument must be a string or a real number, not 'dict'"
     ]
    },
    {
     "data": {
      "image/png": "[encoded data removed]",
      "text/plain": [
       "<Figure size 1500x700 with 1 Axes>"
      ]
     },
     "metadata": {},
     "output_type": "display_data"
    }
   ],
   "source": [
    "#distribution of vader score\n",
    "fig, ax = plt.subplots(figsize=(15,7))\n",
    "ax = sns.distplot(inception['vader_score'], color = 'firebrick')\n",
    "plt.xlabel('Sentiment Score', fontsize=18)\n",
    "plt.ylabel('Tweets per Score', fontsize=18)\n",
    "plt.title('VADER Sentiment of Inception', fontsize=22)\n",
    "plt.tick_params(labelsize='large')\n",
    "\n",
    "plt.savefig('images/VADERinception.jpg')"
   ]
  },
  {
   "cell_type": "raw",
   "id": "96224f78-07dd-420f-970c-dbf741520a93",
   "metadata": {},
   "source": [
    "lambda x: x['compound'] if isinstance(x, dict) else None:\n",
    "\n",
    "This lambda function says:\n",
    "\n",
    "If x is a dictionary, return the value associated with the 'compound' key.\n",
    "\n",
    "If x is not a dictionary (e.g., it's None or something went wrong), return None.\n",
    "\n",
    "Assigns result to inception['compound']:\n",
    "\n",
    "This creates a new column called 'compound' in the DataFrame that holds only the compound sentiment scores."
   ]
  },
  {
   "cell_type": "code",
   "execution_count": 74,
   "id": "752e3fe6-bf4e-468b-bb48-83f399fb28f9",
   "metadata": {
    "scrolled": true
   },
   "outputs": [
    {
     "data": {
      "image/png": "[encoded data removed]",
      "text/plain": [
       "<Figure size 1500x700 with 1 Axes>"
      ]
     },
     "metadata": {},
     "output_type": "display_data"
    },
    {
     "data": {
      "text/plain": [
       "<Figure size 640x480 with 0 Axes>"
      ]
     },
     "metadata": {},
     "output_type": "display_data"
    }
   ],
   "source": [
    "# Extract compound scores into a new column\n",
    "inception['compound'] = inception['vader_score'].apply(lambda x: x['compound'] if isinstance(x, dict) else None)\n",
    "\n",
    "# Plot the distribution\n",
    "plt.figure(figsize=(15,7))\n",
    "sns.histplot(inception['compound'].dropna(), color='firebrick', bins=30, kde=True)\n",
    "plt.xlabel('Compound Sentiment Score', fontsize=18)\n",
    "plt.ylabel('Number of Tweets', fontsize=18)\n",
    "plt.title('Distribution of Compound Sentiment Scores', fontsize=20)\n",
    "plt.show()\n",
    "\n",
    "plt.savefig('Reddit_NLP_Sentiment/images/VADERinception.jpg')"
   ]
  },
  {
   "cell_type": "code",
   "execution_count": 76,
   "id": "0b6caedf-d501-4043-b5cf-703cd4575b07",
   "metadata": {},
   "outputs": [
    {
     "data": {
      "text/html": [
       "<div>\n",
       "<style scoped>\n",
       "    .dataframe tbody tr th:only-of-type {\n",
       "        vertical-align: middle;\n",
       "    }\n",
       "\n",
       "    .dataframe tbody tr th {\n",
       "        vertical-align: top;\n",
       "    }\n",
       "\n",
       "    .dataframe thead th {\n",
       "        text-align: right;\n",
       "    }\n",
       "</style>\n",
       "<table border=\"1\" class=\"dataframe\">\n",
       "  <thead>\n",
       "    <tr style=\"text-align: right;\">\n",
       "      <th></th>\n",
       "      <th>reviews</th>\n",
       "      <th>compound_score</th>\n",
       "      <th>sentiment</th>\n",
       "      <th>split_review</th>\n",
       "      <th>vader_score</th>\n",
       "      <th>positive sentiment score</th>\n",
       "      <th>negative sentiment score</th>\n",
       "      <th>neutral sentiment score</th>\n",
       "      <th>compound</th>\n",
       "    </tr>\n",
       "  </thead>\n",
       "  <tbody>\n",
       "    <tr>\n",
       "      <th>0</th>\n",
       "      <td>If I had money I’d get someone to build me a B...</td>\n",
       "      <td>0.9209</td>\n",
       "      <td>Positive</td>\n",
       "      <td>[If, I, had, money, I’d, get, someone, to, bui...</td>\n",
       "      <td>{'neg': 0.0, 'neu': 0.778, 'pos': 0.222, 'comp...</td>\n",
       "      <td>0.222</td>\n",
       "      <td>0.000</td>\n",
       "      <td>0.778</td>\n",
       "      <td>0.9209</td>\n",
       "    </tr>\n",
       "    <tr>\n",
       "      <th>1</th>\n",
       "      <td>When the van would have hit the water surface,...</td>\n",
       "      <td>-0.1531</td>\n",
       "      <td>Negative</td>\n",
       "      <td>[When, the, van, would, have, hit, the, water,...</td>\n",
       "      <td>{'neg': 0.052, 'neu': 0.948, 'pos': 0.0, 'comp...</td>\n",
       "      <td>0.000</td>\n",
       "      <td>0.052</td>\n",
       "      <td>0.948</td>\n",
       "      <td>-0.1531</td>\n",
       "    </tr>\n",
       "  </tbody>\n",
       "</table>\n",
       "</div>"
      ],
      "text/plain": [
       "                                             reviews  compound_score  \\\n",
       "0  If I had money I’d get someone to build me a B...          0.9209   \n",
       "1  When the van would have hit the water surface,...         -0.1531   \n",
       "\n",
       "  sentiment                                       split_review  \\\n",
       "0  Positive  [If, I, had, money, I’d, get, someone, to, bui...   \n",
       "1  Negative  [When, the, van, would, have, hit, the, water,...   \n",
       "\n",
       "                                         vader_score  \\\n",
       "0  {'neg': 0.0, 'neu': 0.778, 'pos': 0.222, 'comp...   \n",
       "1  {'neg': 0.052, 'neu': 0.948, 'pos': 0.0, 'comp...   \n",
       "\n",
       "   positive sentiment score  negative sentiment score  \\\n",
       "0                     0.222                     0.000   \n",
       "1                     0.000                     0.052   \n",
       "\n",
       "   neutral sentiment score  compound  \n",
       "0                    0.778    0.9209  \n",
       "1                    0.948   -0.1531  "
      ]
     },
     "execution_count": 76,
     "metadata": {},
     "output_type": "execute_result"
    }
   ],
   "source": [
    "inception.head(2)"
   ]
  },
  {
   "cell_type": "code",
   "execution_count": 80,
   "id": "1eb5d056-7104-443a-977a-6438bcd54467",
   "metadata": {},
   "outputs": [
    {
     "data": {
      "image/png": "[encoded data removed]",
      "text/plain": [
       "<Figure size 1200x800 with 1 Axes>"
      ]
     },
     "metadata": {},
     "output_type": "display_data"
    }
   ],
   "source": [
    "#bar plot representation of negative, neutral, and positive vader scores\n",
    "\n",
    "avg_scores = {\n",
    "    'Negative': inception['negative sentiment score'].mean(),\n",
    "    'Neutral': inception['neutral sentiment score'].mean(),\n",
    "    'Positive': inception['positive sentiment score'].mean()\n",
    "}\n",
    "\n",
    "fig, ax = plt.subplots(figsize=(12,8))\n",
    "ax.bar(avg_scores.keys(), avg_scores.values(), color =['red', 'yellow', 'green'])\n",
    "plt.title('Inception VADER Sentiments', fontsize=25)\n",
    "plt.xlabel('Sentiment Class', fontsize=20)\n",
    "plt.ylabel('Tweets per Class', fontsize=20)\n",
    "plt.tick_params(labelsize='large')\n",
    "\n",
    "# plt.savefig('Reddit_NLP_Sentiment/images/inceptionsentiments.jpg')"
   ]
  },
  {
   "cell_type": "markdown",
   "id": "77452a17-ed5c-4329-81de-6e757d57d835",
   "metadata": {},
   "source": [
    "## LDA & TSNE"
   ]
  },
  {
   "cell_type": "code",
   "execution_count": null,
   "id": "225a46d2-e4ed-4624-a994-11462f8c5f24",
   "metadata": {},
   "outputs": [],
   "source": []
  }
 ],
 "metadata": {
  "kernelspec": {
   "display_name": "Python 3 (ipykernel)",
   "language": "python",
   "name": "python3"
  },
  "language_info": {
   "codemirror_mode": {
    "name": "ipython",
    "version": 3
   },
   "file_extension": ".py",
   "mimetype": "text/x-python",
   "name": "python",
   "nbconvert_exporter": "python",
   "pygments_lexer": "ipython3",
   "version": "3.13.0"
  }
 },
 "nbformat": 4,
 "nbformat_minor": 5
}
