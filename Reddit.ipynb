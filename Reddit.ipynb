{
 "cells": [
  {
   "cell_type": "code",
   "execution_count": 1,
   "id": "113d98de-60e5-43ed-8001-e184b4f7b4fe",
   "metadata": {},
   "outputs": [
    {
     "name": "stderr",
     "output_type": "stream",
     "text": [
      "[nltk_data] Downloading package vader_lexicon to\n",
      "[nltk_data]     C:\\Users\\raize\\AppData\\Roaming\\nltk_data...\n",
      "[nltk_data]   Package vader_lexicon is already up-to-date!\n",
      "[nltk_data] Downloading package stopwords to\n",
      "[nltk_data]     C:\\Users\\raize\\AppData\\Roaming\\nltk_data...\n",
      "[nltk_data]   Package stopwords is already up-to-date!\n",
      "[nltk_data] Downloading package punkt to\n",
      "[nltk_data]     C:\\Users\\raize\\AppData\\Roaming\\nltk_data...\n",
      "[nltk_data]   Package punkt is already up-to-date!\n",
      "[nltk_data] Downloading package wordnet to\n",
      "[nltk_data]     C:\\Users\\raize\\AppData\\Roaming\\nltk_data...\n",
      "[nltk_data]   Package wordnet is already up-to-date!\n"
     ]
    },
    {
     "data": {
      "text/plain": [
       "True"
      ]
     },
     "execution_count": 1,
     "metadata": {},
     "output_type": "execute_result"
    }
   ],
   "source": [
    "import nltk\n",
    "from nltk.sentiment import SentimentIntensityAnalyzer\n",
    "from langdetect import detect, DetectorFactory\n",
    "import matplotlib.pyplot as plt\n",
    "import pandas as pd\n",
    "from sklearn.feature_extraction.text import CountVectorizer\n",
    "from sklearn.feature_extraction.text import TfidfVectorizer\n",
    "from sklearn.feature_extraction.text import TfidfTransformer\n",
    "from nltk.probability import FreqDist\n",
    "from nltk.corpus import stopwords\n",
    "from sklearn.metrics import confusion_matrix\n",
    "import seaborn as sns\n",
    "from sklearn.naive_bayes import MultinomialNB\n",
    "from sklearn import metrics\n",
    "from sklearn.model_selection import train_test_split\n",
    "from matplotlib import cm\n",
    "import numpy as np\n",
    "from sklearn.ensemble import RandomForestClassifier\n",
    "from sklearn.metrics import accuracy_score\n",
    "from sklearn.metrics import f1_score\n",
    "from sklearn.naive_bayes import MultinomialNB\n",
    "from tqdm import tqdm\n",
    "from wordcloud import WordCloud\n",
    "import nest_asyncio\n",
    "import praw\n",
    "\n",
    "nest_asyncio.apply()\n",
    "\n",
    "nltk.download(\"vader_lexicon\")\n",
    "nltk.download('stopwords')\n",
    "nltk.download('punkt')\n",
    "nltk.download('wordnet')"
   ]
  },
  {
   "cell_type": "code",
   "execution_count": 2,
   "id": "66d43be9-0f41-4ae2-8ecc-b9af787b6a61",
   "metadata": {},
   "outputs": [],
   "source": [
    "from nltk.tokenize import RegexpTokenizer\n",
    "tokenizer = RegexpTokenizer(r'[a-zA-Z0-9]+')"
   ]
  },
  {
   "cell_type": "code",
   "execution_count": 42,
   "id": "2a062236-2202-42ae-a94a-6ce18f716a79",
   "metadata": {},
   "outputs": [],
   "source": [
    "reddit = praw.Reddit(\n",
    "    client_id=\"\",\n",
    "    client_secret=\"\",\n",
    "    user_agent=\"\",\n",
    ")"
   ]
  },
  {
   "cell_type": "code",
   "execution_count": 4,
   "id": "78272bf1-00ba-4665-80c7-0c722d818127",
   "metadata": {},
   "outputs": [
    {
     "name": "stdout",
     "output_type": "stream",
     "text": [
      "True\n"
     ]
    }
   ],
   "source": [
    "print(reddit.read_only)"
   ]
  },
  {
   "cell_type": "code",
   "execution_count": 5,
   "id": "022a97fc-17ce-45c6-85e2-914dcd0c83e9",
   "metadata": {},
   "outputs": [
    {
     "data": {
      "text/plain": [
       "<praw.reddit.Reddit at 0x20c91e13380>"
      ]
     },
     "execution_count": 5,
     "metadata": {},
     "output_type": "execute_result"
    }
   ],
   "source": [
    "reddit"
   ]
  },
  {
   "cell_type": "code",
   "execution_count": 6,
   "id": "c5df048a-e4f2-4022-9cd9-b2101c60fe3f",
   "metadata": {},
   "outputs": [
    {
     "name": "stdout",
     "output_type": "stream",
     "text": [
      "Collected 72 reviews.\n"
     ]
    }
   ],
   "source": [
    "subreddit = reddit.subreddit(\"movies\")\n",
    "\n",
    "reviews = []\n",
    "for submission in subreddit.new(limit=100):  # You can adjust the limit\n",
    "    # if \"review\" in submission.title.lower():\n",
    "    #     reviews.append(submission.selftext)  # selftext is the post body\n",
    "    # keywords = [\"review\", \"thoughts\", \"opinion\", \"watched\"]\n",
    "    # if any(kw in submission.title.lower() for kw in keywords):\n",
    "    #     reviews.append(submission.selftext)\n",
    "    if submission.selftext:  # Only collect non-empty posts\n",
    "        reviews.append(submission.selftext)\n",
    "\n",
    "print(f\"Collected {len(reviews)} reviews.\")"
   ]
  },
  {
   "cell_type": "code",
   "execution_count": 7,
   "id": "47119e79-9e63-446a-8ab4-36e30505966e",
   "metadata": {},
   "outputs": [],
   "source": [
    "# reviews[:5]"
   ]
  },
  {
   "cell_type": "code",
   "execution_count": 7,
   "id": "38ace028-2e43-4ecb-9f12-ceee0a1ed675",
   "metadata": {},
   "outputs": [
    {
     "name": "stdout",
     "output_type": "stream",
     "text": [
      "Collected 2 Inception-related reviews/posts.\n"
     ]
    }
   ],
   "source": [
    "subreddit = reddit.subreddit(\"movies\")\n",
    "reviews = []\n",
    "\n",
    "inception_keywords = [\"inception\", \"INCEPTION\", \"inception movie\"]\n",
    "\n",
    "for submission in subreddit.new(limit=200):  # You can increase the limit for better coverage\n",
    "    title = submission.title.lower()\n",
    "    body = submission.selftext.lower()\n",
    "    \n",
    "    if any(kw in title or kw in body for kw in inception_keywords):\n",
    "        if submission.selftext.strip():  # Make sure it's not empty\n",
    "            reviews.append(submission.selftext.strip())\n",
    "\n",
    "print(f\"Collected {len(reviews)} Inception-related reviews/posts.\")"
   ]
  },
  {
   "cell_type": "code",
   "execution_count": 8,
   "id": "a6233e05-6fc1-41e2-8da9-1085a9ccc775",
   "metadata": {},
   "outputs": [],
   "source": [
    "subreddit = reddit.subreddit(\"Inception\")"
   ]
  },
  {
   "cell_type": "code",
   "execution_count": 9,
   "id": "6882499b-cf54-48f0-9d35-a7fc2c716aa9",
   "metadata": {},
   "outputs": [
    {
     "name": "stdout",
     "output_type": "stream",
     "text": [
      "Collected:  327 Inception-related reviews/posts.\n"
     ]
    }
   ],
   "source": [
    "for submission in subreddit.new(limit=500):  # Adjust the limit as needed\n",
    "    if submission.selftext:\n",
    "        reviews.append(submission.selftext)\n",
    "\n",
    "print('Collected: ', len(reviews), 'Inception-related reviews/posts.')"
   ]
  },
  {
   "cell_type": "code",
   "execution_count": 10,
   "id": "a0ee822f-45bd-46dc-a042-5cea7416162a",
   "metadata": {},
   "outputs": [
    {
     "name": "stdout",
     "output_type": "stream",
     "text": [
      "Collected: 306 English Inception-related reviews/posts.\n"
     ]
    }
   ],
   "source": [
    "DetectorFactory.seed = 0  # To make detection more consistent\n",
    "\n",
    "reviews = []\n",
    "\n",
    "for submission in subreddit.new(limit=500):\n",
    "    if submission.selftext:\n",
    "        try:\n",
    "            if detect(submission.selftext) == 'en':\n",
    "                reviews.append(submission.selftext)\n",
    "        except:\n",
    "            pass  # Skip if language detection fails (e.g., very short text)\n",
    "\n",
    "print('Collected:', len(reviews), 'English Inception-related reviews/posts.')"
   ]
  },
  {
   "cell_type": "code",
   "execution_count": 11,
   "id": "d9541929-f682-485d-a293-6112703b1b29",
   "metadata": {},
   "outputs": [
    {
     "data": {
      "text/plain": [
       "['Hello everyone! \\n\\nExciting news that The Fine Arts Theater in Beverly Hills will be presenting Inception in 5/70mm on Sunday May 18th at 2 PM. Come and support the movie and the format. Tickets are just $10/person. Hope to see you all there!\\n\\nhttps://fineartstheatrebh.com\\n\\nFollow them on IG they answers DM’s promptly!',\n",
       " 'Dang I’m going away soon on summer holiday for some weeks soonish (not to NZ unfortunately) has anybody tried this Airport version of the Inception soundtrack or the Travelling dream? Was this originally called Speed but removed for obvious reasons? Looks one of a kind!?\\n']"
      ]
     },
     "execution_count": 11,
     "metadata": {},
     "output_type": "execute_result"
    }
   ],
   "source": [
    "reviews[:2]"
   ]
  },
  {
   "cell_type": "code",
   "execution_count": 12,
   "id": "8be8334c-9fc3-4a30-8d2c-afb193dc0fec",
   "metadata": {},
   "outputs": [
    {
     "name": "stdout",
     "output_type": "stream",
     "text": [
      "Sentiment:  {'neg': 0.0, 'neu': 0.804, 'pos': 0.196, 'compound': 0.8879}\n",
      "Sentiment:  {'neg': 0.0, 'neu': 0.909, 'pos': 0.091, 'compound': 0.4909}\n",
      "Sentiment:  {'neg': 0.08, 'neu': 0.852, 'pos': 0.068, 'compound': -0.793}\n",
      "Sentiment:  {'neg': 0.082, 'neu': 0.918, 'pos': 0.0, 'compound': -0.3999}\n",
      "Sentiment:  {'neg': 0.0, 'neu': 0.778, 'pos': 0.222, 'compound': 0.9209}\n"
     ]
    }
   ],
   "source": [
    "analyzer = SentimentIntensityAnalyzer()\n",
    "\n",
    "for review in reviews[:5]:  # Show a few examples\n",
    "    scores = analyzer.polarity_scores(review)\n",
    "    print('Sentiment: ', scores)"
   ]
  },
  {
   "cell_type": "code",
   "execution_count": 13,
   "id": "6f7e0d8f-67d7-4d01-8c3c-ac96a891eda2",
   "metadata": {},
   "outputs": [
    {
     "name": "stdout",
     "output_type": "stream",
     "text": [
      "Review 1 Sentiment: {'neg': 0.0, 'neu': 0.804, 'pos': 0.196, 'compound': 0.8879}\n",
      "Review 2 Sentiment: {'neg': 0.0, 'neu': 0.909, 'pos': 0.091, 'compound': 0.4909}\n",
      "Review 3 Sentiment: {'neg': 0.08, 'neu': 0.852, 'pos': 0.068, 'compound': -0.793}\n",
      "Review 4 Sentiment: {'neg': 0.082, 'neu': 0.918, 'pos': 0.0, 'compound': -0.3999}\n",
      "Review 5 Sentiment: {'neg': 0.0, 'neu': 0.778, 'pos': 0.222, 'compound': 0.9209}\n"
     ]
    }
   ],
   "source": [
    "analyzer = SentimentIntensityAnalyzer()\n",
    "\n",
    "for i, review in enumerate(reviews[:5]):  # Show a few examples\n",
    "    scores = analyzer.polarity_scores(review)\n",
    "    print(f\"Review {i+1} Sentiment: {scores}\")"
   ]
  },
  {
   "cell_type": "raw",
   "id": "0dae2dd8-d03c-4458-acd5-c8d2b8283620",
   "metadata": {},
   "source": [
    "To dataframe:\n",
    "\n",
    "review, setiment"
   ]
  },
  {
   "cell_type": "code",
   "execution_count": 14,
   "id": "b1c45538-e65d-4a92-9fd7-e9cd9c8b8715",
   "metadata": {
    "scrolled": true
   },
   "outputs": [
    {
     "data": {
      "text/html": [
       "<div>\n",
       "<style scoped>\n",
       "    .dataframe tbody tr th:only-of-type {\n",
       "        vertical-align: middle;\n",
       "    }\n",
       "\n",
       "    .dataframe tbody tr th {\n",
       "        vertical-align: top;\n",
       "    }\n",
       "\n",
       "    .dataframe thead th {\n",
       "        text-align: right;\n",
       "    }\n",
       "</style>\n",
       "<table border=\"1\" class=\"dataframe\">\n",
       "  <thead>\n",
       "    <tr style=\"text-align: right;\">\n",
       "      <th></th>\n",
       "      <th>reviews</th>\n",
       "    </tr>\n",
       "  </thead>\n",
       "  <tbody>\n",
       "    <tr>\n",
       "      <th>0</th>\n",
       "      <td>Hello everyone! \\n\\nExciting news that The Fin...</td>\n",
       "    </tr>\n",
       "    <tr>\n",
       "      <th>1</th>\n",
       "      <td>Dang I’m going away soon on summer holiday for...</td>\n",
       "    </tr>\n",
       "    <tr>\n",
       "      <th>2</th>\n",
       "      <td>Different people surely have different interpr...</td>\n",
       "    </tr>\n",
       "    <tr>\n",
       "      <th>3</th>\n",
       "      <td>I think maybe im dumb, but why was Sato in the...</td>\n",
       "    </tr>\n",
       "    <tr>\n",
       "      <th>4</th>\n",
       "      <td>If I had money I’d get someone to build me a B...</td>\n",
       "    </tr>\n",
       "  </tbody>\n",
       "</table>\n",
       "</div>"
      ],
      "text/plain": [
       "                                             reviews\n",
       "0  Hello everyone! \\n\\nExciting news that The Fin...\n",
       "1  Dang I’m going away soon on summer holiday for...\n",
       "2  Different people surely have different interpr...\n",
       "3  I think maybe im dumb, but why was Sato in the...\n",
       "4  If I had money I’d get someone to build me a B..."
      ]
     },
     "execution_count": 14,
     "metadata": {},
     "output_type": "execute_result"
    }
   ],
   "source": [
    "inception = pd.DataFrame({'reviews':reviews})\n",
    "inception.head()"
   ]
  },
  {
   "cell_type": "code",
   "execution_count": 15,
   "id": "a6dbaa12-bfc4-4e2b-96ad-62f6c8f5efd5",
   "metadata": {},
   "outputs": [],
   "source": [
    "vader = SentimentIntensityAnalyzer()"
   ]
  },
  {
   "cell_type": "code",
   "execution_count": 16,
   "id": "79cb79d9-89b9-4d80-8408-d000ce14fe4c",
   "metadata": {},
   "outputs": [
    {
     "data": {
      "text/plain": [
       "<nltk.sentiment.vader.SentimentIntensityAnalyzer at 0x20c91fb8910>"
      ]
     },
     "execution_count": 16,
     "metadata": {},
     "output_type": "execute_result"
    }
   ],
   "source": [
    "vader"
   ]
  },
  {
   "cell_type": "code",
   "execution_count": 17,
   "id": "e1027099-f02b-4837-8430-69d073718a65",
   "metadata": {},
   "outputs": [],
   "source": [
    "inception['vader_score'] = inception['reviews'].apply(lambda x: vader.polarity_scores(x))\n",
    "# inception['vader_score']"
   ]
  },
  {
   "cell_type": "code",
   "execution_count": 18,
   "id": "a9905f10-9217-48cc-bff5-556fb66ac0b6",
   "metadata": {},
   "outputs": [
    {
     "data": {
      "text/plain": [
       "{'neg': 0.0, 'neu': 0.804, 'pos': 0.196, 'compound': 0.8879}"
      ]
     },
     "execution_count": 18,
     "metadata": {},
     "output_type": "execute_result"
    }
   ],
   "source": [
    "inception['vader_score'][0]\n",
    "# inception['vader_score'].keys()"
   ]
  },
  {
   "cell_type": "code",
   "execution_count": 19,
   "id": "8efa51f2-f1ba-4dca-a6ff-b3f3dfa41a92",
   "metadata": {},
   "outputs": [],
   "source": [
    "#add vader scores into the Inception dataframe\n",
    "inception['positive sentiment score'] = inception['reviews'].apply(lambda x: vader.polarity_scores(x)['pos'])\n",
    "inception['negative sentiment score'] = inception['reviews'].apply(lambda x: vader.polarity_scores(x)['neg'])\n",
    "inception['neutral sentiment score'] = inception['reviews'].apply(lambda x: vader.polarity_scores(x)['neu'])\n",
    "inception['compound_score'] = inception['reviews'].apply(lambda x: analyzer.polarity_scores(x)['compound'])"
   ]
  },
  {
   "cell_type": "code",
   "execution_count": 20,
   "id": "ab90b11f-345e-47bb-a5ee-aec174c29dae",
   "metadata": {},
   "outputs": [
    {
     "data": {
      "text/html": [
       "<div>\n",
       "<style scoped>\n",
       "    .dataframe tbody tr th:only-of-type {\n",
       "        vertical-align: middle;\n",
       "    }\n",
       "\n",
       "    .dataframe tbody tr th {\n",
       "        vertical-align: top;\n",
       "    }\n",
       "\n",
       "    .dataframe thead th {\n",
       "        text-align: right;\n",
       "    }\n",
       "</style>\n",
       "<table border=\"1\" class=\"dataframe\">\n",
       "  <thead>\n",
       "    <tr style=\"text-align: right;\">\n",
       "      <th></th>\n",
       "      <th>reviews</th>\n",
       "      <th>compound_score</th>\n",
       "      <th>sentiment</th>\n",
       "    </tr>\n",
       "  </thead>\n",
       "  <tbody>\n",
       "    <tr>\n",
       "      <th>0</th>\n",
       "      <td>Hello everyone! \\n\\nExciting news that The Fin...</td>\n",
       "      <td>0.8879</td>\n",
       "      <td>Positive</td>\n",
       "    </tr>\n",
       "    <tr>\n",
       "      <th>1</th>\n",
       "      <td>Dang I’m going away soon on summer holiday for...</td>\n",
       "      <td>0.4909</td>\n",
       "      <td>Positive</td>\n",
       "    </tr>\n",
       "    <tr>\n",
       "      <th>2</th>\n",
       "      <td>Different people surely have different interpr...</td>\n",
       "      <td>-0.7930</td>\n",
       "      <td>Negative</td>\n",
       "    </tr>\n",
       "    <tr>\n",
       "      <th>3</th>\n",
       "      <td>I think maybe im dumb, but why was Sato in the...</td>\n",
       "      <td>-0.3999</td>\n",
       "      <td>Negative</td>\n",
       "    </tr>\n",
       "    <tr>\n",
       "      <th>4</th>\n",
       "      <td>If I had money I’d get someone to build me a B...</td>\n",
       "      <td>0.9209</td>\n",
       "      <td>Positive</td>\n",
       "    </tr>\n",
       "  </tbody>\n",
       "</table>\n",
       "</div>"
      ],
      "text/plain": [
       "                                             reviews  compound_score sentiment\n",
       "0  Hello everyone! \\n\\nExciting news that The Fin...          0.8879  Positive\n",
       "1  Dang I’m going away soon on summer holiday for...          0.4909  Positive\n",
       "2  Different people surely have different interpr...         -0.7930  Negative\n",
       "3  I think maybe im dumb, but why was Sato in the...         -0.3999  Negative\n",
       "4  If I had money I’d get someone to build me a B...          0.9209  Positive"
      ]
     },
     "execution_count": 20,
     "metadata": {},
     "output_type": "execute_result"
    }
   ],
   "source": [
    "# Apply sentiment analysis\n",
    "# inception['compound_score'] = inception['reviews'].apply(lambda x: analyzer.polarity_scores(x)['compound'])\n",
    "\n",
    "# Optional: classify sentiment as Positive / Negative / Neutral\n",
    "def classify_sentiment(score):\n",
    "    if score >= 0.05:\n",
    "        return 'Positive'\n",
    "    elif score <= -0.05:\n",
    "        return 'Negative'\n",
    "    else:\n",
    "        return 'Neutral'\n",
    "\n",
    "inception['sentiment'] = inception['compound_score'].apply(classify_sentiment)\n",
    "\n",
    "inception[['reviews', 'compound_score', 'sentiment']].head()"
   ]
  },
  {
   "cell_type": "code",
   "execution_count": 21,
   "id": "f852c785-3e39-4035-aa66-78fdabd95ff5",
   "metadata": {},
   "outputs": [
    {
     "data": {
      "text/plain": [
       "(306, 7)"
      ]
     },
     "execution_count": 21,
     "metadata": {},
     "output_type": "execute_result"
    }
   ],
   "source": [
    "inception.shape"
   ]
  },
  {
   "cell_type": "code",
   "execution_count": 22,
   "id": "b06dffe3-8eb2-4f6e-b4b5-5ff7974e3805",
   "metadata": {},
   "outputs": [
    {
     "data": {
      "text/html": [
       "<div>\n",
       "<style scoped>\n",
       "    .dataframe tbody tr th:only-of-type {\n",
       "        vertical-align: middle;\n",
       "    }\n",
       "\n",
       "    .dataframe tbody tr th {\n",
       "        vertical-align: top;\n",
       "    }\n",
       "\n",
       "    .dataframe thead th {\n",
       "        text-align: right;\n",
       "    }\n",
       "</style>\n",
       "<table border=\"1\" class=\"dataframe\">\n",
       "  <thead>\n",
       "    <tr style=\"text-align: right;\">\n",
       "      <th></th>\n",
       "      <th>reviews</th>\n",
       "      <th>vader_score</th>\n",
       "      <th>positive sentiment score</th>\n",
       "      <th>negative sentiment score</th>\n",
       "      <th>neutral sentiment score</th>\n",
       "      <th>compound_score</th>\n",
       "      <th>sentiment</th>\n",
       "    </tr>\n",
       "  </thead>\n",
       "  <tbody>\n",
       "    <tr>\n",
       "      <th>0</th>\n",
       "      <td>Hello everyone! \\n\\nExciting news that The Fin...</td>\n",
       "      <td>{'neg': 0.0, 'neu': 0.804, 'pos': 0.196, 'comp...</td>\n",
       "      <td>0.196</td>\n",
       "      <td>0.000</td>\n",
       "      <td>0.804</td>\n",
       "      <td>0.8879</td>\n",
       "      <td>Positive</td>\n",
       "    </tr>\n",
       "    <tr>\n",
       "      <th>1</th>\n",
       "      <td>Dang I’m going away soon on summer holiday for...</td>\n",
       "      <td>{'neg': 0.0, 'neu': 0.909, 'pos': 0.091, 'comp...</td>\n",
       "      <td>0.091</td>\n",
       "      <td>0.000</td>\n",
       "      <td>0.909</td>\n",
       "      <td>0.4909</td>\n",
       "      <td>Positive</td>\n",
       "    </tr>\n",
       "    <tr>\n",
       "      <th>2</th>\n",
       "      <td>Different people surely have different interpr...</td>\n",
       "      <td>{'neg': 0.08, 'neu': 0.852, 'pos': 0.068, 'com...</td>\n",
       "      <td>0.068</td>\n",
       "      <td>0.080</td>\n",
       "      <td>0.852</td>\n",
       "      <td>-0.7930</td>\n",
       "      <td>Negative</td>\n",
       "    </tr>\n",
       "    <tr>\n",
       "      <th>3</th>\n",
       "      <td>I think maybe im dumb, but why was Sato in the...</td>\n",
       "      <td>{'neg': 0.082, 'neu': 0.918, 'pos': 0.0, 'comp...</td>\n",
       "      <td>0.000</td>\n",
       "      <td>0.082</td>\n",
       "      <td>0.918</td>\n",
       "      <td>-0.3999</td>\n",
       "      <td>Negative</td>\n",
       "    </tr>\n",
       "    <tr>\n",
       "      <th>4</th>\n",
       "      <td>If I had money I’d get someone to build me a B...</td>\n",
       "      <td>{'neg': 0.0, 'neu': 0.778, 'pos': 0.222, 'comp...</td>\n",
       "      <td>0.222</td>\n",
       "      <td>0.000</td>\n",
       "      <td>0.778</td>\n",
       "      <td>0.9209</td>\n",
       "      <td>Positive</td>\n",
       "    </tr>\n",
       "  </tbody>\n",
       "</table>\n",
       "</div>"
      ],
      "text/plain": [
       "                                             reviews  \\\n",
       "0  Hello everyone! \\n\\nExciting news that The Fin...   \n",
       "1  Dang I’m going away soon on summer holiday for...   \n",
       "2  Different people surely have different interpr...   \n",
       "3  I think maybe im dumb, but why was Sato in the...   \n",
       "4  If I had money I’d get someone to build me a B...   \n",
       "\n",
       "                                         vader_score  \\\n",
       "0  {'neg': 0.0, 'neu': 0.804, 'pos': 0.196, 'comp...   \n",
       "1  {'neg': 0.0, 'neu': 0.909, 'pos': 0.091, 'comp...   \n",
       "2  {'neg': 0.08, 'neu': 0.852, 'pos': 0.068, 'com...   \n",
       "3  {'neg': 0.082, 'neu': 0.918, 'pos': 0.0, 'comp...   \n",
       "4  {'neg': 0.0, 'neu': 0.778, 'pos': 0.222, 'comp...   \n",
       "\n",
       "   positive sentiment score  negative sentiment score  \\\n",
       "0                     0.196                     0.000   \n",
       "1                     0.091                     0.000   \n",
       "2                     0.068                     0.080   \n",
       "3                     0.000                     0.082   \n",
       "4                     0.222                     0.000   \n",
       "\n",
       "   neutral sentiment score  compound_score sentiment  \n",
       "0                    0.804          0.8879  Positive  \n",
       "1                    0.909          0.4909  Positive  \n",
       "2                    0.852         -0.7930  Negative  \n",
       "3                    0.918         -0.3999  Negative  \n",
       "4                    0.778          0.9209  Positive  "
      ]
     },
     "execution_count": 22,
     "metadata": {},
     "output_type": "execute_result"
    }
   ],
   "source": [
    "inception.head()"
   ]
  },
  {
   "cell_type": "code",
   "execution_count": 32,
   "id": "9ee180a4-7466-401f-83b8-99d3105e5c48",
   "metadata": {},
   "outputs": [],
   "source": [
    "inception.to_csv('processed_data/inception.csv')"
   ]
  },
  {
   "cell_type": "code",
   "execution_count": 23,
   "id": "a432bbc2-a321-4aea-bd36-61660fccf2a9",
   "metadata": {
    "scrolled": true
   },
   "outputs": [
    {
     "name": "stdout",
     "output_type": "stream",
     "text": [
      "['a', 'about', 'above', 'after', 'again', 'against', 'ain', 'all', 'am', 'an', 'and', 'any', 'are', 'aren', \"aren't\", 'as', 'at', 'be', 'because', 'been', 'before', 'being', 'below', 'between', 'both', 'but', 'by', 'can', 'couldn', \"couldn't\", 'd', 'did', 'didn', \"didn't\", 'do', 'does', 'doesn', \"doesn't\", 'doing', 'don', \"don't\", 'down', 'during', 'each', 'few', 'for', 'from', 'further', 'had', 'hadn', \"hadn't\", 'has', 'hasn', \"hasn't\", 'have', 'haven', \"haven't\", 'having', 'he', \"he'd\", \"he'll\", 'her', 'here', 'hers', 'herself', \"he's\", 'him', 'himself', 'his', 'how', 'i', \"i'd\", 'if', \"i'll\", \"i'm\", 'in', 'into', 'is', 'isn', \"isn't\", 'it', \"it'd\", \"it'll\", \"it's\", 'its', 'itself', \"i've\", 'just', 'll', 'm', 'ma', 'me', 'mightn', \"mightn't\", 'more', 'most', 'mustn', \"mustn't\", 'my', 'myself', 'needn', \"needn't\", 'no', 'nor', 'not', 'now', 'o', 'of', 'off', 'on', 'once', 'only', 'or', 'other', 'our', 'ours', 'ourselves', 'out', 'over', 'own', 're', 's', 'same', 'shan', \"shan't\", 'she', \"she'd\", \"she'll\", \"she's\", 'should', 'shouldn', \"shouldn't\", \"should've\", 'so', 'some', 'such', 't', 'than', 'that', \"that'll\", 'the', 'their', 'theirs', 'them', 'themselves', 'then', 'there', 'these', 'they', \"they'd\", \"they'll\", \"they're\", \"they've\", 'this', 'those', 'through', 'to', 'too', 'under', 'until', 'up', 've', 'very', 'was', 'wasn', \"wasn't\", 'we', \"we'd\", \"we'll\", \"we're\", 'were', 'weren', \"weren't\", \"we've\", 'what', 'when', 'where', 'which', 'while', 'who', 'whom', 'why', 'will', 'with', 'won', \"won't\", 'wouldn', \"wouldn't\", 'y', 'you', \"you'd\", \"you'll\", 'your', \"you're\", 'yours', 'yourself', 'yourselves', \"you've\", '!', '\"', '#', '$', '%', '&', \"'\", '(', ')', '*', '+', ',', '-', '.', '/', ':', ';', '<', '=', '>', '?', '@', '[', '\\\\', ']', '^', '_', '`', '{', '|', '}', '~', 'https', 'I', 'com', 'http', 'RT', 'co', 'the', 'amp', 'the', 'lt', 'A', 'www', 'rt', 'got', 'get', 'ly', 'u', 'also', 'like', 'could', 'get', 'go', 'know']\n"
     ]
    }
   ],
   "source": [
    "#creating a stop words list - these words don't add much value\n",
    "from nltk.corpus import stopwords\n",
    "import string\n",
    "\n",
    "#adding additional words I don't find to be that valuable\n",
    "additional_stopwords = ['https', 'I', 'com', 'http', 'RT', 'co', 'the', 'amp', 'the', 'lt', 'A', 'www', 'rt', 'got', 'get', \n",
    "                        'ly', 'u', 'also', 'like', 'could', 'get', 'go', 'know']\n",
    "\n",
    "stopwords_list = stopwords.words('english')\n",
    "\n",
    "stopwords_list += list(string.punctuation)\n",
    "\n",
    "stopwords_list += additional_stopwords\n",
    "\n",
    "print(stopwords_list)"
   ]
  },
  {
   "cell_type": "code",
   "execution_count": 24,
   "id": "cf40b0be-f284-4837-877f-c4aff67dad61",
   "metadata": {},
   "outputs": [],
   "source": [
    "#isolating every word within tweets for the Inception movie (not including stop words)\n",
    "# Split each review into words\n",
    "inception[\"split_review\"] = inception['reviews'].str.split()"
   ]
  },
  {
   "cell_type": "code",
   "execution_count": 25,
   "id": "31a261ef-81d8-4253-ac6f-220423291aa6",
   "metadata": {
    "scrolled": true
   },
   "outputs": [
    {
     "data": {
      "text/html": [
       "<div>\n",
       "<style scoped>\n",
       "    .dataframe tbody tr th:only-of-type {\n",
       "        vertical-align: middle;\n",
       "    }\n",
       "\n",
       "    .dataframe tbody tr th {\n",
       "        vertical-align: top;\n",
       "    }\n",
       "\n",
       "    .dataframe thead th {\n",
       "        text-align: right;\n",
       "    }\n",
       "</style>\n",
       "<table border=\"1\" class=\"dataframe\">\n",
       "  <thead>\n",
       "    <tr style=\"text-align: right;\">\n",
       "      <th></th>\n",
       "      <th>reviews</th>\n",
       "      <th>vader_score</th>\n",
       "      <th>positive sentiment score</th>\n",
       "      <th>negative sentiment score</th>\n",
       "      <th>neutral sentiment score</th>\n",
       "      <th>compound_score</th>\n",
       "      <th>sentiment</th>\n",
       "      <th>split_review</th>\n",
       "    </tr>\n",
       "  </thead>\n",
       "  <tbody>\n",
       "    <tr>\n",
       "      <th>0</th>\n",
       "      <td>Hello everyone! \\n\\nExciting news that The Fin...</td>\n",
       "      <td>{'neg': 0.0, 'neu': 0.804, 'pos': 0.196, 'comp...</td>\n",
       "      <td>0.196</td>\n",
       "      <td>0.000</td>\n",
       "      <td>0.804</td>\n",
       "      <td>0.8879</td>\n",
       "      <td>Positive</td>\n",
       "      <td>[Hello, everyone!, Exciting, news, that, The, ...</td>\n",
       "    </tr>\n",
       "    <tr>\n",
       "      <th>1</th>\n",
       "      <td>Dang I’m going away soon on summer holiday for...</td>\n",
       "      <td>{'neg': 0.0, 'neu': 0.909, 'pos': 0.091, 'comp...</td>\n",
       "      <td>0.091</td>\n",
       "      <td>0.000</td>\n",
       "      <td>0.909</td>\n",
       "      <td>0.4909</td>\n",
       "      <td>Positive</td>\n",
       "      <td>[Dang, I’m, going, away, soon, on, summer, hol...</td>\n",
       "    </tr>\n",
       "    <tr>\n",
       "      <th>2</th>\n",
       "      <td>Different people surely have different interpr...</td>\n",
       "      <td>{'neg': 0.08, 'neu': 0.852, 'pos': 0.068, 'com...</td>\n",
       "      <td>0.068</td>\n",
       "      <td>0.080</td>\n",
       "      <td>0.852</td>\n",
       "      <td>-0.7930</td>\n",
       "      <td>Negative</td>\n",
       "      <td>[Different, people, surely, have, different, i...</td>\n",
       "    </tr>\n",
       "    <tr>\n",
       "      <th>3</th>\n",
       "      <td>I think maybe im dumb, but why was Sato in the...</td>\n",
       "      <td>{'neg': 0.082, 'neu': 0.918, 'pos': 0.0, 'comp...</td>\n",
       "      <td>0.000</td>\n",
       "      <td>0.082</td>\n",
       "      <td>0.918</td>\n",
       "      <td>-0.3999</td>\n",
       "      <td>Negative</td>\n",
       "      <td>[I, think, maybe, im, dumb,, but, why, was, Sa...</td>\n",
       "    </tr>\n",
       "    <tr>\n",
       "      <th>4</th>\n",
       "      <td>If I had money I’d get someone to build me a B...</td>\n",
       "      <td>{'neg': 0.0, 'neu': 0.778, 'pos': 0.222, 'comp...</td>\n",
       "      <td>0.222</td>\n",
       "      <td>0.000</td>\n",
       "      <td>0.778</td>\n",
       "      <td>0.9209</td>\n",
       "      <td>Positive</td>\n",
       "      <td>[If, I, had, money, I’d, get, someone, to, bui...</td>\n",
       "    </tr>\n",
       "  </tbody>\n",
       "</table>\n",
       "</div>"
      ],
      "text/plain": [
       "                                             reviews  \\\n",
       "0  Hello everyone! \\n\\nExciting news that The Fin...   \n",
       "1  Dang I’m going away soon on summer holiday for...   \n",
       "2  Different people surely have different interpr...   \n",
       "3  I think maybe im dumb, but why was Sato in the...   \n",
       "4  If I had money I’d get someone to build me a B...   \n",
       "\n",
       "                                         vader_score  \\\n",
       "0  {'neg': 0.0, 'neu': 0.804, 'pos': 0.196, 'comp...   \n",
       "1  {'neg': 0.0, 'neu': 0.909, 'pos': 0.091, 'comp...   \n",
       "2  {'neg': 0.08, 'neu': 0.852, 'pos': 0.068, 'com...   \n",
       "3  {'neg': 0.082, 'neu': 0.918, 'pos': 0.0, 'comp...   \n",
       "4  {'neg': 0.0, 'neu': 0.778, 'pos': 0.222, 'comp...   \n",
       "\n",
       "   positive sentiment score  negative sentiment score  \\\n",
       "0                     0.196                     0.000   \n",
       "1                     0.091                     0.000   \n",
       "2                     0.068                     0.080   \n",
       "3                     0.000                     0.082   \n",
       "4                     0.222                     0.000   \n",
       "\n",
       "   neutral sentiment score  compound_score sentiment  \\\n",
       "0                    0.804          0.8879  Positive   \n",
       "1                    0.909          0.4909  Positive   \n",
       "2                    0.852         -0.7930  Negative   \n",
       "3                    0.918         -0.3999  Negative   \n",
       "4                    0.778          0.9209  Positive   \n",
       "\n",
       "                                        split_review  \n",
       "0  [Hello, everyone!, Exciting, news, that, The, ...  \n",
       "1  [Dang, I’m, going, away, soon, on, summer, hol...  \n",
       "2  [Different, people, surely, have, different, i...  \n",
       "3  [I, think, maybe, im, dumb,, but, why, was, Sa...  \n",
       "4  [If, I, had, money, I’d, get, someone, to, bui...  "
      ]
     },
     "execution_count": 25,
     "metadata": {},
     "output_type": "execute_result"
    }
   ],
   "source": [
    "# inception.shape\n",
    "inception.head()"
   ]
  },
  {
   "cell_type": "code",
   "execution_count": 60,
   "id": "e67b2fd9-241c-4aea-be8c-afec5d33b6e7",
   "metadata": {},
   "outputs": [],
   "source": [
    "# inception = inception[~inception['split_review'].isin(stopwords_list)]"
   ]
  },
  {
   "cell_type": "code",
   "execution_count": 26,
   "id": "f79f4748-8148-431c-8317-40469bd30e2b",
   "metadata": {},
   "outputs": [
    {
     "data": {
      "text/plain": [
       "(306, 8)"
      ]
     },
     "execution_count": 26,
     "metadata": {},
     "output_type": "execute_result"
    }
   ],
   "source": [
    "inception.shape"
   ]
  },
  {
   "cell_type": "code",
   "execution_count": 27,
   "id": "f74cfb08-76c2-4d95-b910-0f692a2ec8bc",
   "metadata": {},
   "outputs": [],
   "source": [
    "# Ensure all stopwords are lowercase for consistency\n",
    "stopwords_list = set([word.lower() for word in stopwords_list])\n",
    "\n",
    "# Tokenize and remove stopwords\n",
    "inception[\"split_review\"] = inception['reviews'].str.lower().str.split()\n",
    "inception[\"filtered_review\"] = inception[\"split_review\"].apply(lambda tokens: [word for word in tokens if word not in stopwords_list])"
   ]
  },
  {
   "cell_type": "code",
   "execution_count": 28,
   "id": "8e455323-1fb1-4252-953b-99d9c9c27387",
   "metadata": {},
   "outputs": [
    {
     "name": "stdout",
     "output_type": "stream",
     "text": [
      "[('cobb', 326), ('dream', 225), ('movie', 152), ('mal', 136), ('would', 125), ('saito', 124), ('limbo', 122), ('inception', 108), ('time', 106), ('real', 88), ('one', 81), ('first', 78), ('fischer', 76), ('see', 75), ('level', 73), ('people', 70), ('think', 70), ('wake', 68), ('top', 66), ('totem', 64)]\n"
     ]
    }
   ],
   "source": [
    "from collections import Counter\n",
    "\n",
    "all_words = inception[\"filtered_review\"].explode()\n",
    "top_words = Counter(all_words).most_common(20)\n",
    "print(top_words)"
   ]
  },
  {
   "cell_type": "code",
   "execution_count": 29,
   "id": "ab06df97-8ef8-4bc8-86c4-a9efa7e6bd51",
   "metadata": {},
   "outputs": [
    {
     "data": {
      "text/plain": [
       "{'cobb': 326,\n",
       " 'dream': 225,\n",
       " 'movie': 152,\n",
       " 'mal': 136,\n",
       " 'would': 125,\n",
       " 'saito': 124,\n",
       " 'limbo': 122,\n",
       " 'inception': 108,\n",
       " 'time': 106,\n",
       " 'real': 88,\n",
       " 'one': 81,\n",
       " 'first': 78,\n",
       " 'fischer': 76,\n",
       " 'see': 75,\n",
       " 'level': 73,\n",
       " 'people': 70,\n",
       " 'think': 70,\n",
       " 'wake': 68,\n",
       " 'top': 66,\n",
       " 'totem': 64}"
      ]
     },
     "execution_count": 29,
     "metadata": {},
     "output_type": "execute_result"
    }
   ],
   "source": [
    "inception.head(2)\n",
    "all_words[:7]\n",
    "# top_words\n",
    "dict(top_words)"
   ]
  },
  {
   "cell_type": "code",
   "execution_count": 30,
   "id": "fbac14a5-512e-4e8b-9fc6-57899fd9cb89",
   "metadata": {},
   "outputs": [
    {
     "name": "stdout",
     "output_type": "stream",
     "text": [
      "[('cobb', 326), ('dream', 225), ('movie', 152), ('mal', 136), ('would', 125), ('saito', 124), ('limbo', 122), ('inception', 108), ('time', 106), ('real', 88), ('one', 81), ('first', 78), ('fischer', 76), ('see', 75), ('level', 73), ('people', 70), ('think', 70), ('wake', 68), ('top', 66), ('totem', 64)]\n"
     ]
    }
   ],
   "source": [
    "# Create frequency distribution\n",
    "fdist = FreqDist(dict(top_words))\n",
    "\n",
    "# Now you can inspect fdist\n",
    "print(fdist.most_common(20))  # Top 10 most frequent words"
   ]
  },
  {
   "cell_type": "code",
   "execution_count": 31,
   "id": "a34e4f3e-9554-43a0-8aea-d98968e94ac5",
   "metadata": {
    "scrolled": true
   },
   "outputs": [
    {
     "data": {
      "image/png": "[encoded data removed]",
      "text/plain": [
       "<Figure size 1500x800 with 1 Axes>"
      ]
     },
     "metadata": {},
     "output_type": "display_data"
    },
    {
     "data": {
      "text/plain": [
       "<Figure size 640x480 with 0 Axes>"
      ]
     },
     "metadata": {},
     "output_type": "display_data"
    }
   ],
   "source": [
    "#line plot\n",
    "fig, ax = plt.subplots(1,1, figsize=(15,8)) \n",
    "ax = fdist.plot(25, title=\"Most Common Words about Inception\")\n",
    "ax.set_xlabel(\"Words\")\n",
    "ax.set_ylabel(\"Frequency\")\n",
    "plt.tight_layout()\n",
    "plt.show()\n",
    "\n",
    "plt.savefig('images/inceptionfrequency.jpg')"
   ]
  },
  {
   "cell_type": "code",
   "execution_count": 41,
   "id": "8caf054d-44c3-40da-8340-9c3b89fc7b40",
   "metadata": {},
   "outputs": [
    {
     "data": {
      "image/png": "[encoded data removed]",
      "text/plain": [
       "<Figure size 1500x800 with 1 Axes>"
      ]
     },
     "metadata": {},
     "output_type": "display_data"
    },
    {
     "data": {
      "text/plain": [
       "<Figure size 640x480 with 0 Axes>"
      ]
     },
     "metadata": {},
     "output_type": "display_data"
    }
   ],
   "source": [
    "# Split words and counts for plotting\n",
    "words, counts = zip(*top_words)\n",
    "\n",
    "fig, ax = plt.subplots(figsize=(15, 8))\n",
    "ax.bar(words, counts, color=cm.viridis_r(np.linspace(.4,.8, 30)))\n",
    "ax.set_title(\"Most Common Words about Inception\")\n",
    "ax.set_xlabel(\"Words\")\n",
    "ax.set_ylabel(\"Frequency\")\n",
    "plt.xticks(rotation=45, ha='right')\n",
    "plt.tight_layout()\n",
    "plt.show()\n",
    "\n",
    "# plt.savefig('images/barInceptionFrequency.png')"
   ]
  },
  {
   "cell_type": "code",
   "execution_count": 65,
   "id": "5a9e7bd9-86b4-4bbd-8b1a-48e153375948",
   "metadata": {},
   "outputs": [
    {
     "data": {
      "text/plain": [
       "['hello', 'everyone!', 'exciting', 'news', 'fine', 'arts', 'theater']"
      ]
     },
     "execution_count": 65,
     "metadata": {},
     "output_type": "execute_result"
    }
   ],
   "source": [
    "# Let's assume your DataFrame is named df and 'split_review' is already a list of words\n",
    "# Flatten all lists from the split_review column\n",
    "all_words = [word for sublist in inception['split_review'] for word in sublist]\n",
    "\n",
    "# Convert stopwords to a set for faster lookup\n",
    "stop_words = set(stopwords.words('english'))\n",
    "\n",
    "# Remove stopwords and lowercase the words\n",
    "filtered_words = [word.lower() for word in all_words if word.lower() not in stop_words]\n",
    "filtered_words[:7]\n",
    "# # Create frequency distribution\n",
    "# fdist = FreqDist(filtered_words)\n",
    "\n",
    "# # Now you can inspect fdist\n",
    "# print(fdist.most_common(20))  # Top 10 most frequent words"
   ]
  },
  {
   "cell_type": "code",
   "execution_count": 63,
   "id": "563f8e24-8467-480f-8216-d50ca54a6494",
   "metadata": {
    "scrolled": true
   },
   "outputs": [
    {
     "name": "stdout",
     "output_type": "stream",
     "text": [
      "word\n",
      "cobb     346\n",
      "dream    241\n",
      "mal      153\n",
      "movie    151\n",
      "would    129\n",
      "saito    126\n",
      "limbo    125\n",
      "know     125\n",
      "like     116\n",
      "time     110\n",
      "Name: count, dtype: int64\n"
     ]
    }
   ],
   "source": [
    "# Step 1: Flatten the split_review column into one list of words with a DataFrame\n",
    "words_df = inception['split_review'].explode().to_frame(name='word')\n",
    "\n",
    "# Step 2: Lowercase words and filter out stopwords using `isin`\n",
    "stop_words = set(stopwords.words('english'))\n",
    "words_df['word'] = words_df['word'].str.lower()\n",
    "filtered_df = words_df[~words_df['word'].isin(stop_words)]\n",
    "\n",
    "# Step 3: Get word frequency using value_counts\n",
    "fdist = filtered_df['word'].value_counts()\n",
    "\n",
    "# Optional: Convert to dictionary or inspect top words\n",
    "print(fdist.head(10))"
   ]
  },
  {
   "cell_type": "code",
   "execution_count": 64,
   "id": "08e68518-0e19-40b1-9caa-0578cc4fd034",
   "metadata": {},
   "outputs": [],
   "source": [
    "# inception_words = inception['split_review'].explode().reset_index(drop=True)\n",
    "# inception['split_review'].explode().reset_index()\n",
    "# pd.DataFrame(inception['split_review'].explode())\n",
    "# words_df.head()\n",
    "# pd.DataFrame(inception['split_review'].explode().rename(columns={'split_review':'word'})"
   ]
  },
  {
   "cell_type": "code",
   "execution_count": 33,
   "id": "9f07f443-7b5f-4b57-afff-5908ea92055b",
   "metadata": {},
   "outputs": [],
   "source": [
    "#freqDist - frequency of words within a text, in this case tweets about Inception\n",
    "# fdist = FreqDist(inception['split_review'][0])"
   ]
  },
  {
   "cell_type": "code",
   "execution_count": 65,
   "id": "f920ada0-f656-4807-b950-4b77f55ed90e",
   "metadata": {},
   "outputs": [],
   "source": [
    "# fdist.most_common(2)"
   ]
  },
  {
   "cell_type": "code",
   "execution_count": 33,
   "id": "5d25ddad-084b-4165-8b97-4e0b1e55dfaf",
   "metadata": {
    "scrolled": true
   },
   "outputs": [],
   "source": [
    "#distribution of vader score\n",
    "# fig, ax = plt.subplots(figsize=(15,7))\n",
    "# ax = sns.distplot(inception['vader_score'], color = 'firebrick')\n",
    "# plt.xlabel('Sentiment Score', fontsize=18)\n",
    "# plt.ylabel('Tweets per Score', fontsize=18)\n",
    "# plt.title('VADER Sentiment of Inception', fontsize=22)\n",
    "# plt.tick_params(labelsize='large')\n",
    "\n",
    "# plt.savefig('images/VADERinception.jpg')"
   ]
  },
  {
   "cell_type": "raw",
   "id": "96224f78-07dd-420f-970c-dbf741520a93",
   "metadata": {},
   "source": [
    "lambda x: x['compound'] if isinstance(x, dict) else None:\n",
    "\n",
    "This lambda function says:\n",
    "\n",
    "If x is a dictionary, return the value associated with the 'compound' key.\n",
    "\n",
    "If x is not a dictionary (e.g., it's None or something went wrong), return None.\n",
    "\n",
    "Assigns result to inception['compound']:\n",
    "\n",
    "This creates a new column called 'compound' in the DataFrame that holds only the compound sentiment scores."
   ]
  },
  {
   "cell_type": "code",
   "execution_count": 34,
   "id": "752e3fe6-bf4e-468b-bb48-83f399fb28f9",
   "metadata": {
    "scrolled": true
   },
   "outputs": [
    {
     "data": {
      "image/png": "[encoded data removed]",
      "text/plain": [
       "<Figure size 1500x700 with 1 Axes>"
      ]
     },
     "metadata": {},
     "output_type": "display_data"
    },
    {
     "ename": "FileNotFoundError",
     "evalue": "[Errno 2] No such file or directory: 'C:\\\\Users\\\\raize\\\\Dropbox\\\\Documents\\\\Data_Science\\\\Reddit_NLP_Sentiment\\\\Reddit_NLP_Sentiment\\\\images\\\\VADERinception.jpg'",
     "output_type": "error",
     "traceback": [
      "\u001b[1;31m---------------------------------------------------------------------------\u001b[0m",
      "\u001b[1;31mFileNotFoundError\u001b[0m                         Traceback (most recent call last)",
      "Cell \u001b[1;32mIn[34], line 12\u001b[0m\n\u001b[0;32m      9\u001b[0m plt\u001b[38;5;241m.\u001b[39mtitle(\u001b[38;5;124m'\u001b[39m\u001b[38;5;124mDistribution of Compound Sentiment Scores\u001b[39m\u001b[38;5;124m'\u001b[39m, fontsize\u001b[38;5;241m=\u001b[39m\u001b[38;5;241m20\u001b[39m)\n\u001b[0;32m     10\u001b[0m plt\u001b[38;5;241m.\u001b[39mshow()\n\u001b[1;32m---> 12\u001b[0m \u001b[43mplt\u001b[49m\u001b[38;5;241;43m.\u001b[39;49m\u001b[43msavefig\u001b[49m\u001b[43m(\u001b[49m\u001b[38;5;124;43m'\u001b[39;49m\u001b[38;5;124;43mReddit_NLP_Sentiment/images/VADERinception.jpg\u001b[39;49m\u001b[38;5;124;43m'\u001b[39;49m\u001b[43m)\u001b[49m\n",
      "File \u001b[1;32m~\\AppData\\Local\\Programs\\Python\\Python313\\Lib\\site-packages\\matplotlib\\pyplot.py:1243\u001b[0m, in \u001b[0;36msavefig\u001b[1;34m(*args, **kwargs)\u001b[0m\n\u001b[0;32m   1240\u001b[0m fig \u001b[38;5;241m=\u001b[39m gcf()\n\u001b[0;32m   1241\u001b[0m \u001b[38;5;66;03m# savefig default implementation has no return, so mypy is unhappy\u001b[39;00m\n\u001b[0;32m   1242\u001b[0m \u001b[38;5;66;03m# presumably this is here because subclasses can return?\u001b[39;00m\n\u001b[1;32m-> 1243\u001b[0m res \u001b[38;5;241m=\u001b[39m \u001b[43mfig\u001b[49m\u001b[38;5;241;43m.\u001b[39;49m\u001b[43msavefig\u001b[49m\u001b[43m(\u001b[49m\u001b[38;5;241;43m*\u001b[39;49m\u001b[43margs\u001b[49m\u001b[43m,\u001b[49m\u001b[43m \u001b[49m\u001b[38;5;241;43m*\u001b[39;49m\u001b[38;5;241;43m*\u001b[39;49m\u001b[43mkwargs\u001b[49m\u001b[43m)\u001b[49m  \u001b[38;5;66;03m# type: ignore[func-returns-value]\u001b[39;00m\n\u001b[0;32m   1244\u001b[0m fig\u001b[38;5;241m.\u001b[39mcanvas\u001b[38;5;241m.\u001b[39mdraw_idle()  \u001b[38;5;66;03m# Need this if 'transparent=True', to reset colors.\u001b[39;00m\n\u001b[0;32m   1245\u001b[0m \u001b[38;5;28;01mreturn\u001b[39;00m res\n",
      "File \u001b[1;32m~\\AppData\\Local\\Programs\\Python\\Python313\\Lib\\site-packages\\matplotlib\\figure.py:3490\u001b[0m, in \u001b[0;36mFigure.savefig\u001b[1;34m(self, fname, transparent, **kwargs)\u001b[0m\n\u001b[0;32m   3488\u001b[0m     \u001b[38;5;28;01mfor\u001b[39;00m ax \u001b[38;5;129;01min\u001b[39;00m \u001b[38;5;28mself\u001b[39m\u001b[38;5;241m.\u001b[39maxes:\n\u001b[0;32m   3489\u001b[0m         _recursively_make_axes_transparent(stack, ax)\n\u001b[1;32m-> 3490\u001b[0m \u001b[38;5;28;43mself\u001b[39;49m\u001b[38;5;241;43m.\u001b[39;49m\u001b[43mcanvas\u001b[49m\u001b[38;5;241;43m.\u001b[39;49m\u001b[43mprint_figure\u001b[49m\u001b[43m(\u001b[49m\u001b[43mfname\u001b[49m\u001b[43m,\u001b[49m\u001b[43m \u001b[49m\u001b[38;5;241;43m*\u001b[39;49m\u001b[38;5;241;43m*\u001b[39;49m\u001b[43mkwargs\u001b[49m\u001b[43m)\u001b[49m\n",
      "File \u001b[1;32m~\\AppData\\Local\\Programs\\Python\\Python313\\Lib\\site-packages\\matplotlib\\backend_bases.py:2184\u001b[0m, in \u001b[0;36mFigureCanvasBase.print_figure\u001b[1;34m(self, filename, dpi, facecolor, edgecolor, orientation, format, bbox_inches, pad_inches, bbox_extra_artists, backend, **kwargs)\u001b[0m\n\u001b[0;32m   2180\u001b[0m \u001b[38;5;28;01mtry\u001b[39;00m:\n\u001b[0;32m   2181\u001b[0m     \u001b[38;5;66;03m# _get_renderer may change the figure dpi (as vector formats\u001b[39;00m\n\u001b[0;32m   2182\u001b[0m     \u001b[38;5;66;03m# force the figure dpi to 72), so we need to set it again here.\u001b[39;00m\n\u001b[0;32m   2183\u001b[0m     \u001b[38;5;28;01mwith\u001b[39;00m cbook\u001b[38;5;241m.\u001b[39m_setattr_cm(\u001b[38;5;28mself\u001b[39m\u001b[38;5;241m.\u001b[39mfigure, dpi\u001b[38;5;241m=\u001b[39mdpi):\n\u001b[1;32m-> 2184\u001b[0m         result \u001b[38;5;241m=\u001b[39m \u001b[43mprint_method\u001b[49m\u001b[43m(\u001b[49m\n\u001b[0;32m   2185\u001b[0m \u001b[43m            \u001b[49m\u001b[43mfilename\u001b[49m\u001b[43m,\u001b[49m\n\u001b[0;32m   2186\u001b[0m \u001b[43m            \u001b[49m\u001b[43mfacecolor\u001b[49m\u001b[38;5;241;43m=\u001b[39;49m\u001b[43mfacecolor\u001b[49m\u001b[43m,\u001b[49m\n\u001b[0;32m   2187\u001b[0m \u001b[43m            \u001b[49m\u001b[43medgecolor\u001b[49m\u001b[38;5;241;43m=\u001b[39;49m\u001b[43medgecolor\u001b[49m\u001b[43m,\u001b[49m\n\u001b[0;32m   2188\u001b[0m \u001b[43m            \u001b[49m\u001b[43morientation\u001b[49m\u001b[38;5;241;43m=\u001b[39;49m\u001b[43morientation\u001b[49m\u001b[43m,\u001b[49m\n\u001b[0;32m   2189\u001b[0m \u001b[43m            \u001b[49m\u001b[43mbbox_inches_restore\u001b[49m\u001b[38;5;241;43m=\u001b[39;49m\u001b[43m_bbox_inches_restore\u001b[49m\u001b[43m,\u001b[49m\n\u001b[0;32m   2190\u001b[0m \u001b[43m            \u001b[49m\u001b[38;5;241;43m*\u001b[39;49m\u001b[38;5;241;43m*\u001b[39;49m\u001b[43mkwargs\u001b[49m\u001b[43m)\u001b[49m\n\u001b[0;32m   2191\u001b[0m \u001b[38;5;28;01mfinally\u001b[39;00m:\n\u001b[0;32m   2192\u001b[0m     \u001b[38;5;28;01mif\u001b[39;00m bbox_inches \u001b[38;5;129;01mand\u001b[39;00m restore_bbox:\n",
      "File \u001b[1;32m~\\AppData\\Local\\Programs\\Python\\Python313\\Lib\\site-packages\\matplotlib\\backend_bases.py:2040\u001b[0m, in \u001b[0;36mFigureCanvasBase._switch_canvas_and_return_print_method.<locals>.<lambda>\u001b[1;34m(*args, **kwargs)\u001b[0m\n\u001b[0;32m   2036\u001b[0m     optional_kws \u001b[38;5;241m=\u001b[39m {  \u001b[38;5;66;03m# Passed by print_figure for other renderers.\u001b[39;00m\n\u001b[0;32m   2037\u001b[0m         \u001b[38;5;124m\"\u001b[39m\u001b[38;5;124mdpi\u001b[39m\u001b[38;5;124m\"\u001b[39m, \u001b[38;5;124m\"\u001b[39m\u001b[38;5;124mfacecolor\u001b[39m\u001b[38;5;124m\"\u001b[39m, \u001b[38;5;124m\"\u001b[39m\u001b[38;5;124medgecolor\u001b[39m\u001b[38;5;124m\"\u001b[39m, \u001b[38;5;124m\"\u001b[39m\u001b[38;5;124morientation\u001b[39m\u001b[38;5;124m\"\u001b[39m,\n\u001b[0;32m   2038\u001b[0m         \u001b[38;5;124m\"\u001b[39m\u001b[38;5;124mbbox_inches_restore\u001b[39m\u001b[38;5;124m\"\u001b[39m}\n\u001b[0;32m   2039\u001b[0m     skip \u001b[38;5;241m=\u001b[39m optional_kws \u001b[38;5;241m-\u001b[39m {\u001b[38;5;241m*\u001b[39minspect\u001b[38;5;241m.\u001b[39msignature(meth)\u001b[38;5;241m.\u001b[39mparameters}\n\u001b[1;32m-> 2040\u001b[0m     print_method \u001b[38;5;241m=\u001b[39m functools\u001b[38;5;241m.\u001b[39mwraps(meth)(\u001b[38;5;28;01mlambda\u001b[39;00m \u001b[38;5;241m*\u001b[39margs, \u001b[38;5;241m*\u001b[39m\u001b[38;5;241m*\u001b[39mkwargs: \u001b[43mmeth\u001b[49m\u001b[43m(\u001b[49m\n\u001b[0;32m   2041\u001b[0m \u001b[43m        \u001b[49m\u001b[38;5;241;43m*\u001b[39;49m\u001b[43margs\u001b[49m\u001b[43m,\u001b[49m\u001b[43m \u001b[49m\u001b[38;5;241;43m*\u001b[39;49m\u001b[38;5;241;43m*\u001b[39;49m\u001b[43m{\u001b[49m\u001b[43mk\u001b[49m\u001b[43m:\u001b[49m\u001b[43m \u001b[49m\u001b[43mv\u001b[49m\u001b[43m \u001b[49m\u001b[38;5;28;43;01mfor\u001b[39;49;00m\u001b[43m \u001b[49m\u001b[43mk\u001b[49m\u001b[43m,\u001b[49m\u001b[43m \u001b[49m\u001b[43mv\u001b[49m\u001b[43m \u001b[49m\u001b[38;5;129;43;01min\u001b[39;49;00m\u001b[43m \u001b[49m\u001b[43mkwargs\u001b[49m\u001b[38;5;241;43m.\u001b[39;49m\u001b[43mitems\u001b[49m\u001b[43m(\u001b[49m\u001b[43m)\u001b[49m\u001b[43m \u001b[49m\u001b[38;5;28;43;01mif\u001b[39;49;00m\u001b[43m \u001b[49m\u001b[43mk\u001b[49m\u001b[43m \u001b[49m\u001b[38;5;129;43;01mnot\u001b[39;49;00m\u001b[43m \u001b[49m\u001b[38;5;129;43;01min\u001b[39;49;00m\u001b[43m \u001b[49m\u001b[43mskip\u001b[49m\u001b[43m}\u001b[49m\u001b[43m)\u001b[49m)\n\u001b[0;32m   2042\u001b[0m \u001b[38;5;28;01melse\u001b[39;00m:  \u001b[38;5;66;03m# Let third-parties do as they see fit.\u001b[39;00m\n\u001b[0;32m   2043\u001b[0m     print_method \u001b[38;5;241m=\u001b[39m meth\n",
      "File \u001b[1;32m~\\AppData\\Local\\Programs\\Python\\Python313\\Lib\\site-packages\\matplotlib\\backends\\backend_agg.py:498\u001b[0m, in \u001b[0;36mFigureCanvasAgg.print_jpg\u001b[1;34m(self, filename_or_obj, metadata, pil_kwargs)\u001b[0m\n\u001b[0;32m    493\u001b[0m \u001b[38;5;28;01mdef\u001b[39;00m \u001b[38;5;21mprint_jpg\u001b[39m(\u001b[38;5;28mself\u001b[39m, filename_or_obj, \u001b[38;5;241m*\u001b[39m, metadata\u001b[38;5;241m=\u001b[39m\u001b[38;5;28;01mNone\u001b[39;00m, pil_kwargs\u001b[38;5;241m=\u001b[39m\u001b[38;5;28;01mNone\u001b[39;00m):\n\u001b[0;32m    494\u001b[0m     \u001b[38;5;66;03m# savefig() has already applied savefig.facecolor; we now set it to\u001b[39;00m\n\u001b[0;32m    495\u001b[0m     \u001b[38;5;66;03m# white to make imsave() blend semi-transparent figures against an\u001b[39;00m\n\u001b[0;32m    496\u001b[0m     \u001b[38;5;66;03m# assumed white background.\u001b[39;00m\n\u001b[0;32m    497\u001b[0m     \u001b[38;5;28;01mwith\u001b[39;00m mpl\u001b[38;5;241m.\u001b[39mrc_context({\u001b[38;5;124m\"\u001b[39m\u001b[38;5;124msavefig.facecolor\u001b[39m\u001b[38;5;124m\"\u001b[39m: \u001b[38;5;124m\"\u001b[39m\u001b[38;5;124mwhite\u001b[39m\u001b[38;5;124m\"\u001b[39m}):\n\u001b[1;32m--> 498\u001b[0m         \u001b[38;5;28;43mself\u001b[39;49m\u001b[38;5;241;43m.\u001b[39;49m\u001b[43m_print_pil\u001b[49m\u001b[43m(\u001b[49m\u001b[43mfilename_or_obj\u001b[49m\u001b[43m,\u001b[49m\u001b[43m \u001b[49m\u001b[38;5;124;43m\"\u001b[39;49m\u001b[38;5;124;43mjpeg\u001b[39;49m\u001b[38;5;124;43m\"\u001b[39;49m\u001b[43m,\u001b[49m\u001b[43m \u001b[49m\u001b[43mpil_kwargs\u001b[49m\u001b[43m,\u001b[49m\u001b[43m \u001b[49m\u001b[43mmetadata\u001b[49m\u001b[43m)\u001b[49m\n",
      "File \u001b[1;32m~\\AppData\\Local\\Programs\\Python\\Python313\\Lib\\site-packages\\matplotlib\\backends\\backend_agg.py:430\u001b[0m, in \u001b[0;36mFigureCanvasAgg._print_pil\u001b[1;34m(self, filename_or_obj, fmt, pil_kwargs, metadata)\u001b[0m\n\u001b[0;32m    425\u001b[0m \u001b[38;5;250m\u001b[39m\u001b[38;5;124;03m\"\"\"\u001b[39;00m\n\u001b[0;32m    426\u001b[0m \u001b[38;5;124;03mDraw the canvas, then save it using `.image.imsave` (to which\u001b[39;00m\n\u001b[0;32m    427\u001b[0m \u001b[38;5;124;03m*pil_kwargs* and *metadata* are forwarded).\u001b[39;00m\n\u001b[0;32m    428\u001b[0m \u001b[38;5;124;03m\"\"\"\u001b[39;00m\n\u001b[0;32m    429\u001b[0m FigureCanvasAgg\u001b[38;5;241m.\u001b[39mdraw(\u001b[38;5;28mself\u001b[39m)\n\u001b[1;32m--> 430\u001b[0m \u001b[43mmpl\u001b[49m\u001b[38;5;241;43m.\u001b[39;49m\u001b[43mimage\u001b[49m\u001b[38;5;241;43m.\u001b[39;49m\u001b[43mimsave\u001b[49m\u001b[43m(\u001b[49m\n\u001b[0;32m    431\u001b[0m \u001b[43m    \u001b[49m\u001b[43mfilename_or_obj\u001b[49m\u001b[43m,\u001b[49m\u001b[43m \u001b[49m\u001b[38;5;28;43mself\u001b[39;49m\u001b[38;5;241;43m.\u001b[39;49m\u001b[43mbuffer_rgba\u001b[49m\u001b[43m(\u001b[49m\u001b[43m)\u001b[49m\u001b[43m,\u001b[49m\u001b[43m \u001b[49m\u001b[38;5;28;43mformat\u001b[39;49m\u001b[38;5;241;43m=\u001b[39;49m\u001b[43mfmt\u001b[49m\u001b[43m,\u001b[49m\u001b[43m \u001b[49m\u001b[43morigin\u001b[49m\u001b[38;5;241;43m=\u001b[39;49m\u001b[38;5;124;43m\"\u001b[39;49m\u001b[38;5;124;43mupper\u001b[39;49m\u001b[38;5;124;43m\"\u001b[39;49m\u001b[43m,\u001b[49m\n\u001b[0;32m    432\u001b[0m \u001b[43m    \u001b[49m\u001b[43mdpi\u001b[49m\u001b[38;5;241;43m=\u001b[39;49m\u001b[38;5;28;43mself\u001b[39;49m\u001b[38;5;241;43m.\u001b[39;49m\u001b[43mfigure\u001b[49m\u001b[38;5;241;43m.\u001b[39;49m\u001b[43mdpi\u001b[49m\u001b[43m,\u001b[49m\u001b[43m \u001b[49m\u001b[43mmetadata\u001b[49m\u001b[38;5;241;43m=\u001b[39;49m\u001b[43mmetadata\u001b[49m\u001b[43m,\u001b[49m\u001b[43m \u001b[49m\u001b[43mpil_kwargs\u001b[49m\u001b[38;5;241;43m=\u001b[39;49m\u001b[43mpil_kwargs\u001b[49m\u001b[43m)\u001b[49m\n",
      "File \u001b[1;32m~\\AppData\\Local\\Programs\\Python\\Python313\\Lib\\site-packages\\matplotlib\\image.py:1644\u001b[0m, in \u001b[0;36mimsave\u001b[1;34m(fname, arr, vmin, vmax, cmap, format, origin, dpi, metadata, pil_kwargs)\u001b[0m\n\u001b[0;32m   1642\u001b[0m pil_kwargs\u001b[38;5;241m.\u001b[39msetdefault(\u001b[38;5;124m\"\u001b[39m\u001b[38;5;124mformat\u001b[39m\u001b[38;5;124m\"\u001b[39m, \u001b[38;5;28mformat\u001b[39m)\n\u001b[0;32m   1643\u001b[0m pil_kwargs\u001b[38;5;241m.\u001b[39msetdefault(\u001b[38;5;124m\"\u001b[39m\u001b[38;5;124mdpi\u001b[39m\u001b[38;5;124m\"\u001b[39m, (dpi, dpi))\n\u001b[1;32m-> 1644\u001b[0m \u001b[43mimage\u001b[49m\u001b[38;5;241;43m.\u001b[39;49m\u001b[43msave\u001b[49m\u001b[43m(\u001b[49m\u001b[43mfname\u001b[49m\u001b[43m,\u001b[49m\u001b[43m \u001b[49m\u001b[38;5;241;43m*\u001b[39;49m\u001b[38;5;241;43m*\u001b[39;49m\u001b[43mpil_kwargs\u001b[49m\u001b[43m)\u001b[49m\n",
      "File \u001b[1;32m~\\AppData\\Local\\Programs\\Python\\Python313\\Lib\\site-packages\\PIL\\Image.py:2563\u001b[0m, in \u001b[0;36mImage.save\u001b[1;34m(self, fp, format, **params)\u001b[0m\n\u001b[0;32m   2561\u001b[0m         fp \u001b[38;5;241m=\u001b[39m builtins\u001b[38;5;241m.\u001b[39mopen(filename, \u001b[38;5;124m\"\u001b[39m\u001b[38;5;124mr+b\u001b[39m\u001b[38;5;124m\"\u001b[39m)\n\u001b[0;32m   2562\u001b[0m     \u001b[38;5;28;01melse\u001b[39;00m:\n\u001b[1;32m-> 2563\u001b[0m         fp \u001b[38;5;241m=\u001b[39m \u001b[43mbuiltins\u001b[49m\u001b[38;5;241;43m.\u001b[39;49m\u001b[43mopen\u001b[49m\u001b[43m(\u001b[49m\u001b[43mfilename\u001b[49m\u001b[43m,\u001b[49m\u001b[43m \u001b[49m\u001b[38;5;124;43m\"\u001b[39;49m\u001b[38;5;124;43mw+b\u001b[39;49m\u001b[38;5;124;43m\"\u001b[39;49m\u001b[43m)\u001b[49m\n\u001b[0;32m   2564\u001b[0m \u001b[38;5;28;01melse\u001b[39;00m:\n\u001b[0;32m   2565\u001b[0m     fp \u001b[38;5;241m=\u001b[39m cast(IO[\u001b[38;5;28mbytes\u001b[39m], fp)\n",
      "\u001b[1;31mFileNotFoundError\u001b[0m: [Errno 2] No such file or directory: 'C:\\\\Users\\\\raize\\\\Dropbox\\\\Documents\\\\Data_Science\\\\Reddit_NLP_Sentiment\\\\Reddit_NLP_Sentiment\\\\images\\\\VADERinception.jpg'"
     ]
    },
    {
     "data": {
      "text/plain": [
       "<Figure size 640x480 with 0 Axes>"
      ]
     },
     "metadata": {},
     "output_type": "display_data"
    }
   ],
   "source": [
    "# Extract compound scores into a new column\n",
    "inception['compound'] = inception['vader_score'].apply(lambda x: x['compound'] if isinstance(x, dict) else None)\n",
    "\n",
    "# Plot the distribution\n",
    "plt.figure(figsize=(15,7))\n",
    "sns.histplot(inception['compound'].dropna(), color='firebrick', bins=30, kde=True)\n",
    "plt.xlabel('Compound Sentiment Score', fontsize=18)\n",
    "plt.ylabel('Number of Tweets', fontsize=18)\n",
    "plt.title('Distribution of Compound Sentiment Scores', fontsize=20)\n",
    "plt.show()\n",
    "\n",
    "plt.savefig('Reddit_NLP_Sentiment/images/VADERinception.jpg')"
   ]
  },
  {
   "cell_type": "code",
   "execution_count": 35,
   "id": "0b6caedf-d501-4043-b5cf-703cd4575b07",
   "metadata": {},
   "outputs": [
    {
     "data": {
      "text/html": [
       "<div>\n",
       "<style scoped>\n",
       "    .dataframe tbody tr th:only-of-type {\n",
       "        vertical-align: middle;\n",
       "    }\n",
       "\n",
       "    .dataframe tbody tr th {\n",
       "        vertical-align: top;\n",
       "    }\n",
       "\n",
       "    .dataframe thead th {\n",
       "        text-align: right;\n",
       "    }\n",
       "</style>\n",
       "<table border=\"1\" class=\"dataframe\">\n",
       "  <thead>\n",
       "    <tr style=\"text-align: right;\">\n",
       "      <th></th>\n",
       "      <th>reviews</th>\n",
       "      <th>vader_score</th>\n",
       "      <th>positive sentiment score</th>\n",
       "      <th>negative sentiment score</th>\n",
       "      <th>neutral sentiment score</th>\n",
       "      <th>compound_score</th>\n",
       "      <th>sentiment</th>\n",
       "      <th>split_review</th>\n",
       "      <th>filtered_review</th>\n",
       "      <th>compound</th>\n",
       "    </tr>\n",
       "  </thead>\n",
       "  <tbody>\n",
       "    <tr>\n",
       "      <th>0</th>\n",
       "      <td>Hello everyone! \\n\\nExciting news that The Fin...</td>\n",
       "      <td>{'neg': 0.0, 'neu': 0.804, 'pos': 0.196, 'comp...</td>\n",
       "      <td>0.196</td>\n",
       "      <td>0.0</td>\n",
       "      <td>0.804</td>\n",
       "      <td>0.8879</td>\n",
       "      <td>Positive</td>\n",
       "      <td>[hello, everyone!, exciting, news, that, the, ...</td>\n",
       "      <td>[hello, everyone!, exciting, news, fine, arts,...</td>\n",
       "      <td>0.8879</td>\n",
       "    </tr>\n",
       "    <tr>\n",
       "      <th>1</th>\n",
       "      <td>Dang I’m going away soon on summer holiday for...</td>\n",
       "      <td>{'neg': 0.0, 'neu': 0.909, 'pos': 0.091, 'comp...</td>\n",
       "      <td>0.091</td>\n",
       "      <td>0.0</td>\n",
       "      <td>0.909</td>\n",
       "      <td>0.4909</td>\n",
       "      <td>Positive</td>\n",
       "      <td>[dang, i’m, going, away, soon, on, summer, hol...</td>\n",
       "      <td>[dang, i’m, going, away, soon, summer, holiday...</td>\n",
       "      <td>0.4909</td>\n",
       "    </tr>\n",
       "  </tbody>\n",
       "</table>\n",
       "</div>"
      ],
      "text/plain": [
       "                                             reviews  \\\n",
       "0  Hello everyone! \\n\\nExciting news that The Fin...   \n",
       "1  Dang I’m going away soon on summer holiday for...   \n",
       "\n",
       "                                         vader_score  \\\n",
       "0  {'neg': 0.0, 'neu': 0.804, 'pos': 0.196, 'comp...   \n",
       "1  {'neg': 0.0, 'neu': 0.909, 'pos': 0.091, 'comp...   \n",
       "\n",
       "   positive sentiment score  negative sentiment score  \\\n",
       "0                     0.196                       0.0   \n",
       "1                     0.091                       0.0   \n",
       "\n",
       "   neutral sentiment score  compound_score sentiment  \\\n",
       "0                    0.804          0.8879  Positive   \n",
       "1                    0.909          0.4909  Positive   \n",
       "\n",
       "                                        split_review  \\\n",
       "0  [hello, everyone!, exciting, news, that, the, ...   \n",
       "1  [dang, i’m, going, away, soon, on, summer, hol...   \n",
       "\n",
       "                                     filtered_review  compound  \n",
       "0  [hello, everyone!, exciting, news, fine, arts,...    0.8879  \n",
       "1  [dang, i’m, going, away, soon, summer, holiday...    0.4909  "
      ]
     },
     "execution_count": 35,
     "metadata": {},
     "output_type": "execute_result"
    }
   ],
   "source": [
    "inception.head(2)"
   ]
  },
  {
   "cell_type": "code",
   "execution_count": 36,
   "id": "1eb5d056-7104-443a-977a-6438bcd54467",
   "metadata": {},
   "outputs": [
    {
     "data": {
      "image/png": "[encoded data removed]",
      "text/plain": [
       "<Figure size 1200x800 with 1 Axes>"
      ]
     },
     "metadata": {},
     "output_type": "display_data"
    }
   ],
   "source": [
    "#bar plot representation of negative, neutral, and positive vader scores\n",
    "\n",
    "avg_scores = {\n",
    "    'Negative': inception['negative sentiment score'].mean(),\n",
    "    'Neutral': inception['neutral sentiment score'].mean(),\n",
    "    'Positive': inception['positive sentiment score'].mean()\n",
    "}\n",
    "\n",
    "fig, ax = plt.subplots(figsize=(12,8))\n",
    "ax.bar(avg_scores.keys(), avg_scores.values(), color =['red', 'yellow', 'green'])\n",
    "plt.title('Inception VADER Sentiments', fontsize=25)\n",
    "plt.xlabel('Sentiment Class', fontsize=20)\n",
    "plt.ylabel('Tweets per Class', fontsize=20)\n",
    "plt.tick_params(labelsize='large')\n",
    "\n",
    "# plt.savefig('Reddit_NLP_Sentiment/images/inceptionsentiments.jpg')"
   ]
  },
  {
   "cell_type": "markdown",
   "id": "77452a17-ed5c-4329-81de-6e757d57d835",
   "metadata": {},
   "source": [
    "## LDA & TSNE"
   ]
  },
  {
   "cell_type": "code",
   "execution_count": null,
   "id": "225a46d2-e4ed-4624-a994-11462f8c5f24",
   "metadata": {},
   "outputs": [],
   "source": []
  }
 ],
 "metadata": {
  "kernelspec": {
   "display_name": "Python 3 (ipykernel)",
   "language": "python",
   "name": "python3"
  },
  "language_info": {
   "codemirror_mode": {
    "name": "ipython",
    "version": 3
   },
   "file_extension": ".py",
   "mimetype": "text/x-python",
   "name": "python",
   "nbconvert_exporter": "python",
   "pygments_lexer": "ipython3",
   "version": "3.13.0"
  }
 },
 "nbformat": 4,
 "nbformat_minor": 5
}
